{
  "nbformat": 4,
  "nbformat_minor": 0,
  "metadata": {
    "colab": {
      "name": "dwdm01.ipynb",
      "provenance": [],
      "collapsed_sections": [],
      "authorship_tag": "ABX9TyOiOwAkiwAHKv99lu0ot2GP",
      "include_colab_link": true
    },
    "kernelspec": {
      "name": "python3",
      "display_name": "Python 3"
    },
    "language_info": {
      "name": "python"
    }
  },
  "cells": [
    {
      "cell_type": "markdown",
      "metadata": {
        "id": "view-in-github",
        "colab_type": "text"
      },
      "source": [
        "<a href=\"https://colab.research.google.com/github/Eswar-11/DWDM/blob/main/dwdm01.ipynb\" target=\"_parent\"><img src=\"https://colab.research.google.com/assets/colab-badge.svg\" alt=\"Open In Colab\"/></a>"
      ]
    },
    {
      "cell_type": "markdown",
      "metadata": {
        "id": "PUvfHQykA3E1"
      },
      "source": [
        "1) Calculate income tax for the given income by adhering to the below rules\n",
        "\n",
        "Taxable Income Rate (%)\n",
        "\n",
        "First 5,00,000 0\n",
        "\n",
        "Second 7,50,000 10\n",
        "\n",
        "Third 10,00,000 20\n",
        "\n",
        "Remaining 30"
      ]
    },
    {
      "cell_type": "code",
      "metadata": {
        "colab": {
          "base_uri": "https://localhost:8080/"
        },
        "id": "5AIZ7Je7k1Xg",
        "outputId": "cb22dd5a-4fb7-436d-be1b-0be4f9066748"
      },
      "source": [
        "a = int(input())\n",
        "#sum = 1\n",
        "if a<=500000:\n",
        "    sum = 0\n",
        "elif a>500000 & a<750000:\n",
        "        sum = a*0.1\n",
        "elif a>750000 & a<= 1000000:\n",
        "        sum = a*0.2\n",
        "else:\n",
        "        sum = a*0.3\n",
        "        print(sum)\n",
        "#19BCN7003"
      ],
      "execution_count": 3,
      "outputs": [
        {
          "name": "stdout",
          "output_type": "stream",
          "text": [
            "1100000\n"
          ]
        }
      ]
    },
    {
      "cell_type": "markdown",
      "metadata": {
        "id": "VSeEKQsUA5AX"
      },
      "source": [
        "2) Write a code to extract each digit from an integer, in the reverse order\n",
        "\n",
        "Expected Output: For example, if the given int is 7536, the output shall be “6 3 5 7“, with a space separating the digits."
      ]
    },
    {
      "cell_type": "code",
      "metadata": {
        "colab": {
          "base_uri": "https://localhost:8080/"
        },
        "id": "EtvvNmcmmXsK",
        "outputId": "78db6285-7118-4fed-d063-28a5abe4ed9d"
      },
      "source": [
        "n = 26611\n",
        "rev=0\n",
        "number = []\n",
        "while (n>0):\n",
        " a = n%10\n",
        " number.append(a)\n",
        " n=n//10\n",
        "print(number)\n",
        "#19BCN7003"
      ],
      "execution_count": 4,
      "outputs": [
        {
          "output_type": "stream",
          "name": "stdout",
          "text": [
            "[1, 1, 6, 6, 2]\n"
          ]
        }
      ]
    },
    {
      "cell_type": "markdown",
      "metadata": {
        "id": "5fQMP0MgBMtK"
      },
      "source": [
        "3) Given a list iterate it and display numbers which are divisible by 5 and if you find number greater than 150 stop the loop iteration\n",
        "\n",
        "list1 = [12, 15, 32, 42, 55, 75, 122, 132, 150, 180, 200]\n",
        "\n",
        "Expected output:\n",
        "\n",
        "15\n",
        "\n",
        "55\n",
        "\n",
        "75\n",
        "\n",
        "150"
      ]
    },
    {
      "cell_type": "code",
      "metadata": {
        "colab": {
          "base_uri": "https://localhost:8080/"
        },
        "id": "7-wqpKHum5Rp",
        "outputId": "31952016-8be4-4043-d69f-02cd4938a080"
      },
      "source": [
        "list= [12,15,32,42,55,75,122,132,150,180,200]\n",
        "for i in list:\n",
        "  if i>150: \n",
        "   break\n",
        "  elif i%5 ==0:\n",
        "   print(i)\n",
        "   #19BCN7003"
      ],
      "execution_count": 5,
      "outputs": [
        {
          "output_type": "stream",
          "name": "stdout",
          "text": [
            "15\n",
            "55\n",
            "75\n",
            "150\n"
          ]
        }
      ]
    },
    {
      "cell_type": "markdown",
      "metadata": {
        "id": "tG-Bpf_HBTxK"
      },
      "source": [
        "4) Create a function showEmployee() in such a way that it should accept employee name, and it’s salary and display both, and if the salary is missing in function call it should show it as 9000\n",
        "\n",
        "Expected Output:\n",
        "\n",
        "showEmployee(\"Ben\", 9000)\n",
        "\n",
        "showEmployee(\"Ben\")\n",
        "\n",
        "Should Produce:\n",
        "\n",
        "Employee Ben salary is: 9000\n",
        "\n",
        "Employee Ben salary is: 9000"
      ]
    },
    {
      "cell_type": "code",
      "metadata": {
        "colab": {
          "base_uri": "https://localhost:8080/"
        },
        "id": "wzdvzOupnq1Z",
        "outputId": "05b9040a-1842-4f5f-e4a7-c1749319788b"
      },
      "source": [
        "def show_employee(name, salary=9000):\n",
        " print(\"Employee\", name,\"Salary is\", salary)\n",
        "show_employee(\"Ben\", salary=12000)\n",
        "show_employee(\"Ben\")\n",
        "#19BCN7003"
      ],
      "execution_count": 6,
      "outputs": [
        {
          "output_type": "stream",
          "name": "stdout",
          "text": [
            "Employee Ben Salary is 12000\n",
            "Employee Ben Salary is 9000\n"
          ]
        }
      ]
    },
    {
      "cell_type": "markdown",
      "metadata": {
        "id": "Ak_U5u8lBYZv"
      },
      "source": [
        "5) Count all lower case, upper case, digits, and special symbols from a given string\n",
        "\n",
        "Given:\n",
        "\n",
        "str1 = \"P@#yn26at^&i5ve\"\n",
        "\n",
        "Expected Outcome:\n",
        "\n",
        "Total counts of chars, digits,and symbols\n",
        "\n",
        "Chars = 8\n",
        "\n",
        "Digits = 3\n",
        "\n",
        "Symbol = 4"
      ]
    },
    {
      "cell_type": "code",
      "metadata": {
        "colab": {
          "base_uri": "https://localhost:8080/"
        },
        "id": "u9LlxsOWoqAH",
        "outputId": "588321ed-97df-4e62-f488-c1d3475faa2e"
      },
      "source": [
        "def count(str):\n",
        "     char_count,digit_count,symbol_count = 0,0,0\n",
        "     for char in str:\n",
        "       if char.isalpha():\n",
        "         char_count +=1\n",
        "       elif char.isdigit():\n",
        "         digit_count +=1\n",
        "       else:\n",
        "         symbol_count +=1\n",
        "     print(\"Chars =\", char_count, \"Digits =\", digit_count, \"Symbols=\", symbol_count)\n",
        "\n",
        "str = \"P@#yn26at^&i5ve\"\n",
        "print(\"Total counts of chars, digits, and symbols \\n\")\n",
        "count(str) \n",
        "#19BCN7003"
      ],
      "execution_count": 7,
      "outputs": [
        {
          "output_type": "stream",
          "name": "stdout",
          "text": [
            "Total counts of chars, digits, and symbols \n",
            "\n",
            "Chars = 8 Digits = 3 Symbols= 4\n"
          ]
        }
      ]
    },
    {
      "cell_type": "markdown",
      "metadata": {
        "id": "E29nOgwRBdGF"
      },
      "source": [
        "6) Given a string, return the sum and average of the digits that appear in the string, ignoring all other characters\n",
        "\n",
        "Given:\n",
        "\n",
        "str1 = \"English = 78 Science = 83 Math = 68 History = 65\"\n",
        "\n",
        "Expected Outcome:\n",
        "\n",
        "sum is 294\n",
        "\n",
        "average is 73.5"
      ]
    },
    {
      "cell_type": "code",
      "metadata": {
        "colab": {
          "base_uri": "https://localhost:8080/"
        },
        "id": "0MntbJ_JrfN4",
        "outputId": "5ba78cf9-b79f-4dc8-a206-ef617b5540c2"
      },
      "source": [
        "str=\"English = 78 Science = 83 Math = 68 History = 65\"\n",
        "sum=0\n",
        "count =0\n",
        "for num in str.split():\n",
        " if num.isdigit():\n",
        "  count +=1\n",
        "  sum = sum + int(num)\n",
        "print(\"sum is \",sum)\n",
        "print(\"average is \", sum/count) \n",
        "#19BCN7003"
      ],
      "execution_count": 8,
      "outputs": [
        {
          "output_type": "stream",
          "name": "stdout",
          "text": [
            "sum is  294\n",
            "average is  73.5\n"
          ]
        }
      ]
    },
    {
      "cell_type": "markdown",
      "metadata": {
        "id": "MW-n0nKVBgIV"
      },
      "source": [
        "7) Given a two list. Create a third list by picking an odd-index element from the first list and even index elements from second.\n",
        "\n",
        "For Example:\n",
        "\n",
        "listOne = [3, 6, 9, 12, 15, 18, 21]\n",
        "\n",
        "listTwo = [4, 8, 12, 16, 20, 24, 28]\n",
        "\n",
        "Expected Output:\n",
        "\n",
        "Element at odd-index positions from list one\n",
        "\n",
        "[6, 12, 18]\n",
        "\n",
        "Element at even-index positions from list two\n",
        "\n",
        "[4, 12, 20, 28]\n",
        "\n",
        "Printing Final third list\n",
        "\n",
        "[6, 12, 18, 4, 12, 20, 28]"
      ]
    },
    {
      "cell_type": "code",
      "metadata": {
        "colab": {
          "base_uri": "https://localhost:8080/"
        },
        "id": "WoTQv6BasTBs",
        "outputId": "5f297df3-4ca3-43b9-bba3-2d1c5d38783b"
      },
      "source": [
        "listOne = [3, 6, 9, 12, 15, 18, 21]\n",
        "listTwo = [4, 8, 12, 16, 20, 24, 28]\n",
        "odd_i = []\n",
        "even_i = []\n",
        "for i in range(0, len(listTwo)):\n",
        "    if i % 2:\n",
        "       even_i.append(listTwo[i])\n",
        "for i in range(0, len(listOne)):\n",
        "    if i % 2 !=0:\n",
        "       odd_i.append(listOne[i])\n",
        "print(\"Element at odd-index positions from list one\")\n",
        "print(odd_i)\n",
        "print(\"Element at even-index positions from list two\")\n",
        "print(even_i)\n",
        "print(\"Printing Final third list\")\n",
        "print(odd_i + even_i) \n",
        "#19BCN7003"
      ],
      "execution_count": 9,
      "outputs": [
        {
          "output_type": "stream",
          "name": "stdout",
          "text": [
            "Element at odd-index positions from list one\n",
            "[6, 12, 18]\n",
            "Element at even-index positions from list two\n",
            "[8, 16, 24]\n",
            "Printing Final third list\n",
            "[6, 12, 18, 8, 16, 24]\n"
          ]
        }
      ]
    },
    {
      "cell_type": "markdown",
      "metadata": {
        "id": "7MGIY8VbBlSY"
      },
      "source": [
        "8) Given a two list of equal size create a set such that it shows the element from both lists in the pair\n",
        "\n",
        "Expected Output:\n",
        "\n",
        "First List [2, 3, 4, 5, 6, 7, 8]\n",
        "\n",
        "Second List [4, 9, 16, 25, 36, 49, 64]\n",
        "\n",
        "Result is {(6, 36), (8, 64), (4, 16), (5, 25), (3, 9), (7, 49), (2, 4)}"
      ]
    },
    {
      "cell_type": "code",
      "metadata": {
        "colab": {
          "base_uri": "https://localhost:8080/"
        },
        "id": "XtM8nas2tHDr",
        "outputId": "e06b5111-ace6-46f7-d73a-50caf3011076"
      },
      "source": [
        "List1 =[2, 3, 4, 5, 6, 7, 8]\n",
        "List2 = [4, 9, 16, 25, 36, 49, 64]\n",
        "result = zip(List1, List2)\n",
        "print(set(result))\n",
        "#19BCN7003 "
      ],
      "execution_count": 10,
      "outputs": [
        {
          "output_type": "stream",
          "name": "stdout",
          "text": [
            "{(6, 36), (8, 64), (4, 16), (5, 25), (3, 9), (7, 49), (2, 4)}\n"
          ]
        }
      ]
    },
    {
      "cell_type": "markdown",
      "metadata": {
        "id": "5W4SGdFKBpU_"
      },
      "source": [
        "9) Given a dictionary get all values from the dictionary and add it in a list but don’t add duplicates.\n",
        "\n",
        "speed ={'jan':47, 'feb':52, 'march':47, 'April':44, 'May':52, 'June':53, 'july':54, 'Aug':44, 'Sept':54}\n",
        "\n",
        "Expected Outcome: [47, 52, 44, 53, 54]"
      ]
    },
    {
      "cell_type": "code",
      "metadata": {
        "colab": {
          "base_uri": "https://localhost:8080/"
        },
        "id": "HshDzBUOtvvZ",
        "outputId": "708ef4bb-a95a-41d9-ba58-2fb23c6292b0"
      },
      "source": [
        "speed ={'jan':47, 'feb':52, 'march':47, 'April':44, 'May':52, 'June':53, 'july':54, 'Aug':44, 'Sept':54}\n",
        "p=speed.values()\n",
        "res = []\n",
        "for i in p:\n",
        " if i not in res:\n",
        "  res.append(i)\n",
        "print(res) \n",
        "#19BCN7003"
      ],
      "execution_count": 11,
      "outputs": [
        {
          "output_type": "stream",
          "name": "stdout",
          "text": [
            "[47, 52, 44, 53, 54]\n"
          ]
        }
      ]
    },
    {
      "cell_type": "markdown",
      "metadata": {
        "id": "vsVLiaOeBuFm"
      },
      "source": [
        "9) Remove duplicate from a list and create a tuple and find the minimum and maximum number.\n",
        "\n",
        "For Example:\n",
        "\n",
        "sampleList = [87, 45, 41, 65, 94, 41, 99, 94]\n",
        "\n",
        "Expected Outcome:\n",
        "\n",
        "unique items [87, 45, 41, 65, 99]\n",
        "\n",
        "tuple (87, 45, 41, 65, 99)\n",
        "\n",
        "min: 41\n",
        "\n",
        "max: 99"
      ]
    },
    {
      "cell_type": "code",
      "metadata": {
        "colab": {
          "base_uri": "https://localhost:8080/"
        },
        "id": "XNE5K9JouN9s",
        "outputId": "b05dcac8-65cf-4ae7-b36a-f809a1a212ca"
      },
      "source": [
        "sampleList = [87, 45, 41, 65, 94, 41, 99, 94]\n",
        "res = []\n",
        "sum=0\n",
        "count=len(sampleList)\n",
        "for i in sampleList:\n",
        " if i not in res:\n",
        "  res.append(i)\n",
        "sampleList=res\n",
        "print(\"unique items \",sampleList )\n",
        "print(\"tuple \",tuple(sampleList))\n",
        "print(\"min: \",max(sampleList))\n",
        "print(\"max: \",min(sampleList))\n",
        "for i in sampleList:\n",
        " sum = sum +i\n",
        "print(\"Average: \",sum/count)\n",
        "#19BCN7003"
      ],
      "execution_count": 12,
      "outputs": [
        {
          "output_type": "stream",
          "name": "stdout",
          "text": [
            "unique items  [87, 45, 41, 65, 94, 99]\n",
            "tuple  (87, 45, 41, 65, 94, 99)\n",
            "min:  99\n",
            "max:  41\n",
            "Average:  53.875\n"
          ]
        }
      ]
    }
  ]
}