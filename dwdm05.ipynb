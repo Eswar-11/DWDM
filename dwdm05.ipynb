{
  "nbformat": 4,
  "nbformat_minor": 0,
  "metadata": {
    "colab": {
      "name": "dwdm05.ipynb",
      "provenance": [],
      "collapsed_sections": [],
      "include_colab_link": true
    },
    "kernelspec": {
      "name": "python3",
      "display_name": "Python 3"
    },
    "language_info": {
      "name": "python"
    }
  },
  "cells": [
    {
      "cell_type": "markdown",
      "metadata": {
        "id": "view-in-github",
        "colab_type": "text"
      },
      "source": [
        "<a href=\"https://colab.research.google.com/github/Eswar-11/DWDM/blob/main/dwdm05.ipynb\" target=\"_parent\"><img src=\"https://colab.research.google.com/assets/colab-badge.svg\" alt=\"Open In Colab\"/></a>"
      ]
    },
    {
      "cell_type": "markdown",
      "metadata": {
        "id": "i2T_ZUohmV--"
      },
      "source": [
        "Refer the given links about following functions to generate synthetic data and \n",
        "plot the \n",
        "\n",
        "data: make_regression(), make_classification(), make_blobs(), make_circles(), \n",
        "make_moons()\n",
        "\n",
        "A)\n"
      ]
    },
    {
      "cell_type": "code",
      "metadata": {
        "colab": {
          "base_uri": "https://localhost:8080/",
          "height": 626
        },
        "id": "fC4uzWZgIGXR",
        "outputId": "06b4801e-ed4b-4d15-d4b6-9d73bcca1321"
      },
      "source": [
        "import matplotlib.pyplot as plt\n",
        "from sklearn.datasets import make_regression\n",
        "N_FEATURES=4\n",
        "N_TARGETS=1\n",
        "N_SAMPLES=100\n",
        "colours=['red','green','blue','orange','cyan']\n",
        "dataset=make_regression(\n",
        "    n_samples=N_SAMPLES,\n",
        "    n_features=N_FEATURES,\n",
        "    n_informative=2,\n",
        "    n_targets=N_TARGETS,\n",
        "    bias=0.0,\n",
        "    effective_rank=None,\n",
        "    tail_strength=0.5,\n",
        "    noise=0.0,\n",
        "    shuffle=True,\n",
        "    coef=False,random_state=23\n",
        ")\n",
        "print(dataset[0][:10])\n",
        "print(dataset[1][:10])\n",
        "import pandas as pd\n",
        "df=pd.DataFrame(data=dataset[0],columns=[f\"f{i+1}\" for i in range(N_FEATURES)])\n",
        "df[\"y\"]=dataset[1]\n",
        "!pip install plotutils\n",
        "from plotutils import *\n",
        "import numpy as np\n",
        "from plotnine.data import *\n",
        "from plotnine import *\n",
        "from scipy.stats import linregress\n",
        "def plot_regression(df,size):\n",
        "    i=size-1\n",
        "    fit=np.polyfit(df[df.columns[i]],df[\"y\"],1)\n",
        "    fit_fn=np.poly1d(fit)\n",
        "    plt.xlabel(\"y\")\n",
        "    plt.ylabel(f\"f{i+1}\")\n",
        "    plt.scatter(df[df.columns[i]],df[\"y\"],s=30,c='y')\n",
        "    plt.plot(df[df.columns[i]],fit_fn(df[df.columns[i]]),ls=\"--\",c='b',lw=1)\n",
        "plot_regression(df,N_FEATURES)\n",
        "#19BCN7003"
      ],
      "execution_count": 3,
      "outputs": [
        {
          "output_type": "stream",
          "name": "stdout",
          "text": [
            "[[ 0.87305874 -1.63096187  0.52538404 -0.19035824]\n",
            " [ 1.00698671  0.79834941 -0.04057655 -0.31358605]\n",
            " [-0.61464273  1.65110321  0.75791487 -0.0039844 ]\n",
            " [-1.08536678  1.82337823  0.4612592  -1.72325306]\n",
            " [-1.67774847 -0.54401341  0.86347869 -0.30250463]\n",
            " [-0.02427254  0.75537599 -0.04644972 -0.85153564]\n",
            " [-0.48085576  0.82100952 -0.9390196  -0.25870492]\n",
            " [-0.66772841 -2.46244005 -0.19855095 -1.85756579]\n",
            " [-0.29810663 -0.02239635  0.25363492 -1.22688366]\n",
            " [ 1.48146924  0.38269965 -1.18208819 -1.31062148]]\n",
            "[  20.00449025  -30.41054677   52.65371365 -119.26376184   33.78805456\n",
            "  -78.12189078  -88.41673748 -177.21674804  -90.13920313 -197.90799195]\n",
            "Requirement already satisfied: plotutils in /usr/local/lib/python3.7/dist-packages (0.3.2)\n",
            "Requirement already satisfied: matplotlib in /usr/local/lib/python3.7/dist-packages (from plotutils) (3.2.2)\n",
            "Requirement already satisfied: cycler>=0.10 in /usr/local/lib/python3.7/dist-packages (from matplotlib->plotutils) (0.11.0)\n",
            "Requirement already satisfied: pyparsing!=2.0.4,!=2.1.2,!=2.1.6,>=2.0.1 in /usr/local/lib/python3.7/dist-packages (from matplotlib->plotutils) (2.4.7)\n",
            "Requirement already satisfied: python-dateutil>=2.1 in /usr/local/lib/python3.7/dist-packages (from matplotlib->plotutils) (2.8.2)\n",
            "Requirement already satisfied: kiwisolver>=1.0.1 in /usr/local/lib/python3.7/dist-packages (from matplotlib->plotutils) (1.3.2)\n",
            "Requirement already satisfied: numpy>=1.11 in /usr/local/lib/python3.7/dist-packages (from matplotlib->plotutils) (1.19.5)\n",
            "Requirement already satisfied: six>=1.5 in /usr/local/lib/python3.7/dist-packages (from python-dateutil>=2.1->matplotlib->plotutils) (1.15.0)\n"
          ]
        },
        {
          "output_type": "display_data",
          "data": {
            "image/png": "[encoded data removed]",
            "text/plain": [
              "<Figure size 432x288 with 1 Axes>"
            ]
          },
          "metadata": {
            "needs_background": "light"
          }
        }
      ]
    },
    {
      "cell_type": "markdown",
      "metadata": {
        "id": "l34AC3ecni7_"
      },
      "source": [
        "B)"
      ]
    },
    {
      "cell_type": "code",
      "metadata": {
        "colab": {
          "base_uri": "https://localhost:8080/",
          "height": 246
        },
        "id": "Oory4KMeLMz2",
        "outputId": "4841f0b2-ff29-4832-f10c-9ee12f82ffcd"
      },
      "source": [
        "from sklearn.datasets import make_classification\n",
        "plt.figure(figsize=(10,10))\n",
        "plt.subplots_adjust(bottom=0.05, top=0.9, left=0.05, right=0.95)\n",
        "plt.subplot(321)\n",
        "\n",
        "X1, Y1 = make_classification(n_samples=50,n_features=2, n_redundant=0, n_informative=1, n_clusters_per_class=1)\n",
        "plt.scatter(X1[:, 0], X1[:, 1], marker=\"o\", c=Y1, s=20, edgecolor=\"k\")\n",
        "#19BCN7003"
      ],
      "execution_count": 4,
      "outputs": [
        {
          "output_type": "execute_result",
          "data": {
            "text/plain": [
              "<matplotlib.collections.PathCollection at 0x7fdf4a4b4a50>"
            ]
          },
          "metadata": {},
          "execution_count": 4
        },
        {
          "output_type": "display_data",
          "data": {
            "image/png": "[encoded data removed]",
            "text/plain": [
              "<Figure size 720x720 with 1 Axes>"
            ]
          },
          "metadata": {
            "needs_background": "light"
          }
        }
      ]
    },
    {
      "cell_type": "markdown",
      "metadata": {
        "id": "WqEyDR88nnOs"
      },
      "source": [
        "C)"
      ]
    },
    {
      "cell_type": "code",
      "metadata": {
        "colab": {
          "base_uri": "https://localhost:8080/",
          "height": 348
        },
        "id": "B6Jtc6tfLtn-",
        "outputId": "23327061-ac53-4bca-fb00-c9f4a72ab516"
      },
      "source": [
        "import matplotlib.pyplot as plt\n",
        "\n",
        "from sklearn.datasets import make_classification\n",
        "from sklearn.datasets import make_blobs\n",
        "from sklearn.datasets import make_gaussian_quantiles\n",
        "\n",
        "plt.figure(figsize=(15, 15))\n",
        "plt.subplots_adjust(bottom=0.05, top=0.9, left=0.05, right=0.95)\n",
        "\n",
        "plt.subplot(325)\n",
        "plt.title(\"Three blobs\", fontsize=\"small\")\n",
        "X1, Y1 = make_blobs(n_features=2, centers=3)\n",
        "plt.scatter(X1[:, 0], X1[:, 1], marker=\"o\", c=Y1, s=25, edgecolor=\"k\")\n",
        "#19BCN7003"
      ],
      "execution_count": 5,
      "outputs": [
        {
          "output_type": "execute_result",
          "data": {
            "text/plain": [
              "<matplotlib.collections.PathCollection at 0x7fdf49fdb810>"
            ]
          },
          "metadata": {},
          "execution_count": 5
        },
        {
          "output_type": "display_data",
          "data": {
            "image/png": "[encoded data removed]",
            "text/plain": [
              "<Figure size 1080x1080 with 1 Axes>"
            ]
          },
          "metadata": {
            "needs_background": "light"
          }
        }
      ]
    },
    {
      "cell_type": "markdown",
      "metadata": {
        "id": "5SHNsopznqvN"
      },
      "source": [
        "D)"
      ]
    },
    {
      "cell_type": "code",
      "metadata": {
        "colab": {
          "base_uri": "https://localhost:8080/",
          "height": 318
        },
        "id": "4MBXSCp5L6NQ",
        "outputId": "f833c4c9-7679-4390-9d99-fe7efb2e9817"
      },
      "source": [
        "from sklearn.datasets import make_circles\n",
        "import pandas as pd\n",
        "import matplotlib.pyplot as plt\n",
        "\n",
        "plt.figure(figsize=(15, 15))\n",
        "plt.subplots_adjust(bottom=0.05, top=0.9, left=0.05, right=0.95)\n",
        "plt.subplot(325)\n",
        "X, y = make_circles(n_samples=100, shuffle=True,\n",
        "          noise=0, random_state=42)\n",
        "plt.scatter(X[:, 0], X[:, 1], c=y)\n",
        "plt.show()\n",
        "#19BCN7003"
      ],
      "execution_count": 6,
      "outputs": [
        {
          "output_type": "display_data",
          "data": {
            "image/png": "[encoded data removed]",
            "text/plain": [
              "<Figure size 1080x1080 with 1 Axes>"
            ]
          },
          "metadata": {
            "needs_background": "light"
          }
        }
      ]
    },
    {
      "cell_type": "markdown",
      "metadata": {
        "id": "eyRKY1Qfnt7D"
      },
      "source": [
        "E)"
      ]
    },
    {
      "cell_type": "code",
      "metadata": {
        "colab": {
          "base_uri": "https://localhost:8080/",
          "height": 348
        },
        "id": "wgvsTfYiLM_t",
        "outputId": "442f6bed-94eb-46a0-8d36-c491153876fe"
      },
      "source": [
        "import matplotlib.pyplot as plt\n",
        "\n",
        "from sklearn.datasets import make_classification\n",
        "from sklearn.datasets import make_moons\n",
        "from sklearn.datasets import make_gaussian_quantiles\n",
        "\n",
        "plt.figure(figsize=(15, 15))\n",
        "plt.subplots_adjust(bottom=0.05, top=0.9, left=0.05, right=0.95)\n",
        "plt.subplot(325)\n",
        "plt.title(\"moons\", fontsize=\"small\")\n",
        "X1, Y1 = make_moons(n_samples = 100,noise=0)\n",
        "plt.scatter(X1[:, 0], X1[:, 1], marker=\"o\", c=Y1, s=45, edgecolor=\"k\")\n",
        "#19BCN7003"
      ],
      "execution_count": 7,
      "outputs": [
        {
          "output_type": "execute_result",
          "data": {
            "text/plain": [
              "<matplotlib.collections.PathCollection at 0x7fdf49f2f690>"
            ]
          },
          "metadata": {},
          "execution_count": 7
        },
        {
          "output_type": "display_data",
          "data": {
            "image/png": "[encoded data removed]",
            "text/plain": [
              "<Figure size 1080x1080 with 1 Axes>"
            ]
          },
          "metadata": {
            "needs_background": "light"
          }
        }
      ]
    },
    {
      "cell_type": "markdown",
      "metadata": {
        "id": "xnUKIm-XnxY9"
      },
      "source": [
        "Create Fake Customer data of super market with the following field \n",
        "and store it in a CSV file. Customer name, Customer address, date \n",
        "od birth, gender, blood group, email, phone no, purchase amount.\n",
        "\n",
        "Hint: Use Faker package of Python.\n"
      ]
    },
    {
      "cell_type": "code",
      "metadata": {
        "colab": {
          "base_uri": "https://localhost:8080/"
        },
        "id": "_fOzSOL_LNLx",
        "outputId": "dfe0fcca-a5c8-4ac7-9322-df96e2a81799"
      },
      "source": [
        "pip install Faker"
      ],
      "execution_count": 8,
      "outputs": [
        {
          "output_type": "stream",
          "name": "stdout",
          "text": [
            "Collecting Faker\n",
            "  Downloading Faker-9.8.2-py3-none-any.whl (1.2 MB)\n",
            "\u001b[K     |████████████████████████████████| 1.2 MB 5.2 MB/s \n",
            "\u001b[?25hRequirement already satisfied: text-unidecode==1.3 in /usr/local/lib/python3.7/dist-packages (from Faker) (1.3)\n",
            "Requirement already satisfied: typing-extensions>=3.10.0.2 in /usr/local/lib/python3.7/dist-packages (from Faker) (3.10.0.2)\n",
            "Requirement already satisfied: python-dateutil>=2.4 in /usr/local/lib/python3.7/dist-packages (from Faker) (2.8.2)\n",
            "Requirement already satisfied: six>=1.5 in /usr/local/lib/python3.7/dist-packages (from python-dateutil>=2.4->Faker) (1.15.0)\n",
            "Installing collected packages: Faker\n",
            "Successfully installed Faker-9.8.2\n"
          ]
        }
      ]
    },
    {
      "cell_type": "code",
      "metadata": {
        "colab": {
          "base_uri": "https://localhost:8080/",
          "height": 958
        },
        "id": "APv_x3mEMVkD",
        "outputId": "bc8f4e8c-872f-46ab-ebc7-68baf8e8e6f3"
      },
      "source": [
        "import pandas as pd\n",
        "from faker import Faker \n",
        "from faker.providers import DynamicProvider\n",
        "import numpy as np\n",
        "faker = Faker()\n",
        "cust_id=[]\n",
        "cust_name=[]\n",
        "cust_address=[]\n",
        "cust_dob=[]\n",
        "cust_bloodgroup=[]\n",
        "cust_email=[]\n",
        "cust_phno=[]\n",
        "cust_gender=[]\n",
        "cust_purchase=[]\n",
        "for i in range (1,30):\n",
        "  cust_id.append(faker.random_int(1000,9000))\n",
        "  gender = faker.random.choice([\"M\", \"F\"])\n",
        "  cust_gender.append(gender)\n",
        "  if(gender==\"M\"):\n",
        "      cust_name.append(faker.name_male())\n",
        "  else:\n",
        "      cust_name.append(faker.name_female())\n",
        "  blood_group = DynamicProvider(\n",
        "        provider_name=\"blood_group\",\n",
        "        elements=[\"a+\", \"a-\", \"b+\", \"b-\", \"o+\",\"o-\",\"ab+\",\"ab-\"],\n",
        "  )\n",
        "  faker.add_provider(blood_group)\n",
        "  cust_bloodgroup.append(faker.blood_group())\n",
        "  cust_address.append(faker.address())\n",
        "  cust_dob.append(faker.date())\n",
        "  cust_email.append(faker.email());\n",
        "  cust_phno.append(faker.phone_number())\n",
        "  cust_purchase.append(faker.random_int(100,500))\n",
        "d = { \"ID\":cust_id,\"Name\":cust_name,\"DOB\":cust_dob,\"Gender\":cust_gender,\"Blood Group\":cust_bloodgroup,\"Email\":cust_email,\"phno\":cust_phno,\"Purchase amount($)\":cust_purchase}\n",
        "df= pd.DataFrame(d)\n",
        "df\n",
        "#19BCN7003"
      ],
      "execution_count": 9,
      "outputs": [
        {
          "output_type": "execute_result",
          "data": {
            "text/html": [
              "<div>\n",
              "<style scoped>\n",
              "    .dataframe tbody tr th:only-of-type {\n",
              "        vertical-align: middle;\n",
              "    }\n",
              "\n",
              "    .dataframe tbody tr th {\n",
              "        vertical-align: top;\n",
              "    }\n",
              "\n",
              "    .dataframe thead th {\n",
              "        text-align: right;\n",
              "    }\n",
              "</style>\n",
              "<table border=\"1\" class=\"dataframe\">\n",
              "  <thead>\n",
              "    <tr style=\"text-align: right;\">\n",
              "      <th></th>\n",
              "      <th>ID</th>\n",
              "      <th>Name</th>\n",
              "      <th>DOB</th>\n",
              "      <th>Gender</th>\n",
              "      <th>Blood Group</th>\n",
              "      <th>Email</th>\n",
              "      <th>phno</th>\n",
              "      <th>Purchase amount($)</th>\n",
              "    </tr>\n",
              "  </thead>\n",
              "  <tbody>\n",
              "    <tr>\n",
              "      <th>0</th>\n",
              "      <td>2011</td>\n",
              "      <td>Beth Harvey</td>\n",
              "      <td>2018-07-21</td>\n",
              "      <td>F</td>\n",
              "      <td>b-</td>\n",
              "      <td>jgarcia@example.com</td>\n",
              "      <td>001-079-088-6249</td>\n",
              "      <td>400</td>\n",
              "    </tr>\n",
              "    <tr>\n",
              "      <th>1</th>\n",
              "      <td>2316</td>\n",
              "      <td>Brandon Davis</td>\n",
              "      <td>1987-12-17</td>\n",
              "      <td>M</td>\n",
              "      <td>o+</td>\n",
              "      <td>austin35@example.net</td>\n",
              "      <td>001-424-644-0265x6845</td>\n",
              "      <td>236</td>\n",
              "    </tr>\n",
              "    <tr>\n",
              "      <th>2</th>\n",
              "      <td>4126</td>\n",
              "      <td>William Zavala</td>\n",
              "      <td>2012-01-19</td>\n",
              "      <td>M</td>\n",
              "      <td>b-</td>\n",
              "      <td>amy36@example.net</td>\n",
              "      <td>+1-362-227-9672x283</td>\n",
              "      <td>374</td>\n",
              "    </tr>\n",
              "    <tr>\n",
              "      <th>3</th>\n",
              "      <td>2219</td>\n",
              "      <td>Jennifer Walsh</td>\n",
              "      <td>2019-03-25</td>\n",
              "      <td>F</td>\n",
              "      <td>o+</td>\n",
              "      <td>wrivera@example.org</td>\n",
              "      <td>(264)886-4739x87502</td>\n",
              "      <td>406</td>\n",
              "    </tr>\n",
              "    <tr>\n",
              "      <th>4</th>\n",
              "      <td>5622</td>\n",
              "      <td>Victoria Dominguez</td>\n",
              "      <td>2018-07-07</td>\n",
              "      <td>F</td>\n",
              "      <td>b+</td>\n",
              "      <td>jenniferguzman@example.net</td>\n",
              "      <td>001-313-353-1219x025</td>\n",
              "      <td>185</td>\n",
              "    </tr>\n",
              "    <tr>\n",
              "      <th>5</th>\n",
              "      <td>6156</td>\n",
              "      <td>Julie Richardson</td>\n",
              "      <td>1990-02-20</td>\n",
              "      <td>F</td>\n",
              "      <td>ab-</td>\n",
              "      <td>brittanypacheco@example.org</td>\n",
              "      <td>(081)778-9106x4526</td>\n",
              "      <td>382</td>\n",
              "    </tr>\n",
              "    <tr>\n",
              "      <th>6</th>\n",
              "      <td>8593</td>\n",
              "      <td>Ashley Jimenez</td>\n",
              "      <td>1986-06-03</td>\n",
              "      <td>F</td>\n",
              "      <td>a+</td>\n",
              "      <td>jacob84@example.com</td>\n",
              "      <td>902.442.1754x78832</td>\n",
              "      <td>137</td>\n",
              "    </tr>\n",
              "    <tr>\n",
              "      <th>7</th>\n",
              "      <td>5582</td>\n",
              "      <td>Audrey Jenkins</td>\n",
              "      <td>1977-05-31</td>\n",
              "      <td>F</td>\n",
              "      <td>b+</td>\n",
              "      <td>wgonzalez@example.org</td>\n",
              "      <td>983-514-8533x11540</td>\n",
              "      <td>456</td>\n",
              "    </tr>\n",
              "    <tr>\n",
              "      <th>8</th>\n",
              "      <td>4684</td>\n",
              "      <td>John Gomez</td>\n",
              "      <td>2015-07-02</td>\n",
              "      <td>M</td>\n",
              "      <td>ab+</td>\n",
              "      <td>miranda42@example.net</td>\n",
              "      <td>810.869.3680x5703</td>\n",
              "      <td>237</td>\n",
              "    </tr>\n",
              "    <tr>\n",
              "      <th>9</th>\n",
              "      <td>4342</td>\n",
              "      <td>Thomas Hernandez</td>\n",
              "      <td>2009-01-07</td>\n",
              "      <td>M</td>\n",
              "      <td>b-</td>\n",
              "      <td>pattersonpaul@example.net</td>\n",
              "      <td>001-407-140-3626x781</td>\n",
              "      <td>276</td>\n",
              "    </tr>\n",
              "    <tr>\n",
              "      <th>10</th>\n",
              "      <td>5267</td>\n",
              "      <td>Sarah Powers</td>\n",
              "      <td>2011-01-15</td>\n",
              "      <td>F</td>\n",
              "      <td>b+</td>\n",
              "      <td>jeremiah04@example.org</td>\n",
              "      <td>2901002488</td>\n",
              "      <td>370</td>\n",
              "    </tr>\n",
              "    <tr>\n",
              "      <th>11</th>\n",
              "      <td>6523</td>\n",
              "      <td>Alexandria Harding</td>\n",
              "      <td>1989-06-06</td>\n",
              "      <td>F</td>\n",
              "      <td>ab-</td>\n",
              "      <td>scottcollins@example.net</td>\n",
              "      <td>(968)411-9188x02383</td>\n",
              "      <td>120</td>\n",
              "    </tr>\n",
              "    <tr>\n",
              "      <th>12</th>\n",
              "      <td>7602</td>\n",
              "      <td>Chase Stuart</td>\n",
              "      <td>1980-09-06</td>\n",
              "      <td>M</td>\n",
              "      <td>a-</td>\n",
              "      <td>schroederchristopher@example.org</td>\n",
              "      <td>+1-334-818-4926</td>\n",
              "      <td>336</td>\n",
              "    </tr>\n",
              "    <tr>\n",
              "      <th>13</th>\n",
              "      <td>3042</td>\n",
              "      <td>William James</td>\n",
              "      <td>1993-10-16</td>\n",
              "      <td>M</td>\n",
              "      <td>ab-</td>\n",
              "      <td>xcastro@example.net</td>\n",
              "      <td>029-659-4799</td>\n",
              "      <td>102</td>\n",
              "    </tr>\n",
              "    <tr>\n",
              "      <th>14</th>\n",
              "      <td>6940</td>\n",
              "      <td>Courtney Bell</td>\n",
              "      <td>1978-07-28</td>\n",
              "      <td>F</td>\n",
              "      <td>b+</td>\n",
              "      <td>robertfry@example.net</td>\n",
              "      <td>133-851-4791x420</td>\n",
              "      <td>404</td>\n",
              "    </tr>\n",
              "    <tr>\n",
              "      <th>15</th>\n",
              "      <td>3894</td>\n",
              "      <td>Destiny Kane</td>\n",
              "      <td>2020-08-07</td>\n",
              "      <td>F</td>\n",
              "      <td>ab+</td>\n",
              "      <td>rickybond@example.org</td>\n",
              "      <td>001-453-948-2102x260</td>\n",
              "      <td>145</td>\n",
              "    </tr>\n",
              "    <tr>\n",
              "      <th>16</th>\n",
              "      <td>1578</td>\n",
              "      <td>Monica Hernandez</td>\n",
              "      <td>1987-02-11</td>\n",
              "      <td>F</td>\n",
              "      <td>b+</td>\n",
              "      <td>sanchezemily@example.net</td>\n",
              "      <td>+1-295-344-0364x7015</td>\n",
              "      <td>387</td>\n",
              "    </tr>\n",
              "    <tr>\n",
              "      <th>17</th>\n",
              "      <td>4559</td>\n",
              "      <td>Katie Downs</td>\n",
              "      <td>1999-08-09</td>\n",
              "      <td>F</td>\n",
              "      <td>ab-</td>\n",
              "      <td>victoriadavis@example.org</td>\n",
              "      <td>3180753266</td>\n",
              "      <td>314</td>\n",
              "    </tr>\n",
              "    <tr>\n",
              "      <th>18</th>\n",
              "      <td>5638</td>\n",
              "      <td>Tammy Robinson</td>\n",
              "      <td>2002-02-28</td>\n",
              "      <td>F</td>\n",
              "      <td>b-</td>\n",
              "      <td>debra76@example.org</td>\n",
              "      <td>1264899087</td>\n",
              "      <td>212</td>\n",
              "    </tr>\n",
              "    <tr>\n",
              "      <th>19</th>\n",
              "      <td>7620</td>\n",
              "      <td>Melanie Chavez</td>\n",
              "      <td>1986-03-22</td>\n",
              "      <td>F</td>\n",
              "      <td>b-</td>\n",
              "      <td>danielclark@example.net</td>\n",
              "      <td>161-448-9892</td>\n",
              "      <td>166</td>\n",
              "    </tr>\n",
              "    <tr>\n",
              "      <th>20</th>\n",
              "      <td>1901</td>\n",
              "      <td>Melissa Martin</td>\n",
              "      <td>1988-12-12</td>\n",
              "      <td>F</td>\n",
              "      <td>o+</td>\n",
              "      <td>jenkinscharles@example.org</td>\n",
              "      <td>716-151-4724x12950</td>\n",
              "      <td>477</td>\n",
              "    </tr>\n",
              "    <tr>\n",
              "      <th>21</th>\n",
              "      <td>8390</td>\n",
              "      <td>Angela Conner</td>\n",
              "      <td>2018-02-15</td>\n",
              "      <td>F</td>\n",
              "      <td>a-</td>\n",
              "      <td>ramosnicole@example.org</td>\n",
              "      <td>246.164.8914</td>\n",
              "      <td>130</td>\n",
              "    </tr>\n",
              "    <tr>\n",
              "      <th>22</th>\n",
              "      <td>8425</td>\n",
              "      <td>Deborah Johnson</td>\n",
              "      <td>1982-07-18</td>\n",
              "      <td>F</td>\n",
              "      <td>a-</td>\n",
              "      <td>calderondanielle@example.com</td>\n",
              "      <td>001-909-057-7911x4727</td>\n",
              "      <td>277</td>\n",
              "    </tr>\n",
              "    <tr>\n",
              "      <th>23</th>\n",
              "      <td>7423</td>\n",
              "      <td>Charles Gross</td>\n",
              "      <td>1970-02-16</td>\n",
              "      <td>M</td>\n",
              "      <td>o+</td>\n",
              "      <td>jdiaz@example.com</td>\n",
              "      <td>271.737.9692x2867</td>\n",
              "      <td>107</td>\n",
              "    </tr>\n",
              "    <tr>\n",
              "      <th>24</th>\n",
              "      <td>5136</td>\n",
              "      <td>Ashley Peck</td>\n",
              "      <td>2012-12-03</td>\n",
              "      <td>F</td>\n",
              "      <td>a+</td>\n",
              "      <td>shawn05@example.net</td>\n",
              "      <td>680.929.1261x393</td>\n",
              "      <td>216</td>\n",
              "    </tr>\n",
              "    <tr>\n",
              "      <th>25</th>\n",
              "      <td>8119</td>\n",
              "      <td>Brian Owens</td>\n",
              "      <td>1991-07-17</td>\n",
              "      <td>M</td>\n",
              "      <td>ab-</td>\n",
              "      <td>michellecastro@example.net</td>\n",
              "      <td>2084142293</td>\n",
              "      <td>333</td>\n",
              "    </tr>\n",
              "    <tr>\n",
              "      <th>26</th>\n",
              "      <td>7255</td>\n",
              "      <td>Leslie Johnston</td>\n",
              "      <td>2016-04-02</td>\n",
              "      <td>F</td>\n",
              "      <td>o+</td>\n",
              "      <td>beth42@example.org</td>\n",
              "      <td>1892272555</td>\n",
              "      <td>395</td>\n",
              "    </tr>\n",
              "    <tr>\n",
              "      <th>27</th>\n",
              "      <td>1224</td>\n",
              "      <td>Daniel Odonnell</td>\n",
              "      <td>1984-12-13</td>\n",
              "      <td>M</td>\n",
              "      <td>b-</td>\n",
              "      <td>william42@example.com</td>\n",
              "      <td>173.355.2816x19160</td>\n",
              "      <td>316</td>\n",
              "    </tr>\n",
              "    <tr>\n",
              "      <th>28</th>\n",
              "      <td>1331</td>\n",
              "      <td>Angela Edwards</td>\n",
              "      <td>2003-03-18</td>\n",
              "      <td>F</td>\n",
              "      <td>b-</td>\n",
              "      <td>andrewsjeffrey@example.com</td>\n",
              "      <td>559.225.5735x729</td>\n",
              "      <td>321</td>\n",
              "    </tr>\n",
              "  </tbody>\n",
              "</table>\n",
              "</div>"
            ],
            "text/plain": [
              "      ID                Name  ...                   phno Purchase amount($)\n",
              "0   2011         Beth Harvey  ...       001-079-088-6249                400\n",
              "1   2316       Brandon Davis  ...  001-424-644-0265x6845                236\n",
              "2   4126      William Zavala  ...    +1-362-227-9672x283                374\n",
              "3   2219      Jennifer Walsh  ...    (264)886-4739x87502                406\n",
              "4   5622  Victoria Dominguez  ...   001-313-353-1219x025                185\n",
              "5   6156    Julie Richardson  ...     (081)778-9106x4526                382\n",
              "6   8593      Ashley Jimenez  ...     902.442.1754x78832                137\n",
              "7   5582      Audrey Jenkins  ...     983-514-8533x11540                456\n",
              "8   4684          John Gomez  ...      810.869.3680x5703                237\n",
              "9   4342    Thomas Hernandez  ...   001-407-140-3626x781                276\n",
              "10  5267        Sarah Powers  ...             2901002488                370\n",
              "11  6523  Alexandria Harding  ...    (968)411-9188x02383                120\n",
              "12  7602        Chase Stuart  ...        +1-334-818-4926                336\n",
              "13  3042       William James  ...           029-659-4799                102\n",
              "14  6940       Courtney Bell  ...       133-851-4791x420                404\n",
              "15  3894        Destiny Kane  ...   001-453-948-2102x260                145\n",
              "16  1578    Monica Hernandez  ...   +1-295-344-0364x7015                387\n",
              "17  4559         Katie Downs  ...             3180753266                314\n",
              "18  5638      Tammy Robinson  ...             1264899087                212\n",
              "19  7620      Melanie Chavez  ...           161-448-9892                166\n",
              "20  1901      Melissa Martin  ...     716-151-4724x12950                477\n",
              "21  8390       Angela Conner  ...           246.164.8914                130\n",
              "22  8425     Deborah Johnson  ...  001-909-057-7911x4727                277\n",
              "23  7423       Charles Gross  ...      271.737.9692x2867                107\n",
              "24  5136         Ashley Peck  ...       680.929.1261x393                216\n",
              "25  8119         Brian Owens  ...             2084142293                333\n",
              "26  7255     Leslie Johnston  ...             1892272555                395\n",
              "27  1224     Daniel Odonnell  ...     173.355.2816x19160                316\n",
              "28  1331      Angela Edwards  ...       559.225.5735x729                321\n",
              "\n",
              "[29 rows x 8 columns]"
            ]
          },
          "metadata": {},
          "execution_count": 9
        }
      ]
    },
    {
      "cell_type": "code",
      "metadata": {
        "id": "Og8Cl_BFMVne"
      },
      "source": [
        "df.to_csv(\"customerDetails.csv\",header=True)\n",
        "#19BCN7003"
      ],
      "execution_count": 10,
      "outputs": []
    }
  ]
}