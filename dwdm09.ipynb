{
  "nbformat": 4,
  "nbformat_minor": 0,
  "metadata": {
    "colab": {
      "name": "dwdm09.ipynb",
      "provenance": [],
      "include_colab_link": true
    },
    "kernelspec": {
      "name": "python3",
      "display_name": "Python 3"
    },
    "language_info": {
      "name": "python"
    }
  },
  "cells": [
    {
      "cell_type": "markdown",
      "metadata": {
        "id": "view-in-github",
        "colab_type": "text"
      },
      "source": [
        "<a href=\"https://colab.research.google.com/github/Eswar-11/DWDM/blob/main/dwdm09.ipynb\" target=\"_parent\"><img src=\"https://colab.research.google.com/assets/colab-badge.svg\" alt=\"Open In Colab\"/></a>"
      ]
    },
    {
      "cell_type": "markdown",
      "metadata": {
        "id": "3tsV24DN4YGs"
      },
      "source": [
        "Develop a python code to generate frequent item setsusing Apriorialgorithmwith minimum\n",
        "support is 3. Consider the following\n",
        "transactions:((\"a\",\"b\",\"c\"),(\"a\",\"b\"),(\"a\",\"b\",\"d\"),(\"b\",\"e\"),(\"b\",\"c\",\"e\"),(\"a\",\"d\",\"e\"),(\"\n",
        "a\",\"c\"),(\"a\",\"b\",\"d\"),(\"c\",\"e\"),(\"a\",\"b\",\"d\",\"e\"),(\"a\",'b','e','c'))"
      ]
    },
    {
      "cell_type": "code",
      "metadata": {
        "colab": {
          "base_uri": "https://localhost:8080/"
        },
        "id": "7fYUaLu1UJeq",
        "outputId": "e586694d-4296-4da7-8d73-234f9887aead"
      },
      "source": [
        "import numpy as np\n",
        "def cnt(data,key):\n",
        "    c=0\n",
        "    l=0\n",
        "    k = list(key)\n",
        "    for i in range(0,len(data)):\n",
        "        for j in range(0,len(data[i])):\n",
        "            if data[i][j] == k[l]:\n",
        "                l=l+1\n",
        "            elif data[i][j] != k[l]:\n",
        "                l=0\n",
        "            if (l+1)==len(key):\n",
        "                c=c+1\n",
        "                l=0\n",
        "        l=0\n",
        "    return c\n",
        "key1 = ('a','b','c')#input()\n",
        "key2 = ('c','d')#input()\n",
        "print(\"Data: \")\n",
        "data = [['a','b','c','d'],['b','c','d'],['b','c','d','e'],['a','b','c','d','e']]#(list)input()\n",
        "print(data)\n",
        "total1 = cnt(data,key1)\n",
        "print(key1,\" --> \",total1)\n",
        "total2 = cnt(data,key2)\n",
        "print(key2,\" --> \",total2)"
      ],
      "execution_count": 9,
      "outputs": [
        {
          "output_type": "stream",
          "name": "stdout",
          "text": [
            "Data: \n",
            "[['a', 'b', 'c', 'd'], ['b', 'c', 'd'], ['b', 'c', 'd', 'e'], ['a', 'b', 'c', 'd', 'e']]\n",
            "('a', 'b', 'c')  -->  2\n",
            "('c', 'd')  -->  4\n"
          ]
        }
      ]
    },
    {
      "cell_type": "code",
      "metadata": {
        "colab": {
          "base_uri": "https://localhost:8080/"
        },
        "id": "rDo3rAbqU-iV",
        "outputId": "b7b31163-c92a-48d1-aee5-d013176a8a4c"
      },
      "source": [
        "def selfjoin(dt):\n",
        "    ot = []\n",
        "    for i in range(0,len(dt)):\n",
        "        for j in range(i+1,len(dt)):\n",
        "            a = set(dt[i])\n",
        "            b = set(dt[j])\n",
        "            if a&b :\n",
        "                t=[]\n",
        "                for k in range(0,len(dt[i])):\n",
        "                    for l in range(0,len(dt[j])):\n",
        "                        if (not(dt[i][k] in t))and(not(dt[j][l] in t)):\n",
        "                            if(dt[i][k]==dt[j][l]):\n",
        "                                t.append(dt[i][k])\n",
        "                            else:\n",
        "                                t.append(dt[i][k])\n",
        "                                t.append(dt[j][l])\n",
        "                ot.append(t)\n",
        "    temp=[]\n",
        "    for i in range(0,len(ot)):\n",
        "        if len(ot[i])==(len(dt[0])+1)and(not(ot[i] in temp)):\n",
        "            temp.append(ot[i])\n",
        "    return temp\n",
        "\n",
        "#data\n",
        "dt = [['a','b'],['a','c'],['b','c'],['b','d'],['c','d'],['c','e'],['c','f']]\n",
        "setlist = selfjoin(dt)\n",
        "print(setlist)"
      ],
      "execution_count": 10,
      "outputs": [
        {
          "output_type": "stream",
          "name": "stdout",
          "text": [
            "[['a', 'b', 'c'], ['b', 'c', 'd'], ['c', 'd', 'e'], ['c', 'd', 'f'], ['c', 'e', 'f']]\n"
          ]
        }
      ]
    },
    {
      "cell_type": "code",
      "metadata": {
        "colab": {
          "base_uri": "https://localhost:8080/"
        },
        "id": "uS14JFZdZkgY",
        "outputId": "4ed65172-b9c2-43b9-ffbe-66bdefae2c86"
      },
      "source": [
        "a='a'\n",
        "b='b'\n",
        "c='c'\n",
        "def nonemptysubsets(arr):\n",
        "  x=[]\n",
        "  for i in range(0, len(arr)):\n",
        "    x.append(arr[i])\n",
        "    if arr[i] in x:\n",
        "      y=[]\n",
        "      y.append(arr[i-1])\n",
        "      y.append(arr[i])\n",
        "      x.append(y)\n",
        "    else:\n",
        "      pass\n",
        "  return x\n",
        "nonemptysubsets([a,b,c])"
      ],
      "execution_count": 11,
      "outputs": [
        {
          "output_type": "execute_result",
          "data": {
            "text/plain": [
              "['a', ['c', 'a'], 'b', ['a', 'b'], 'c', ['b', 'c']]"
            ]
          },
          "metadata": {},
          "execution_count": 11
        }
      ]
    },
    {
      "cell_type": "markdown",
      "metadata": {
        "id": "Z15SArN_-pcZ"
      },
      "source": [
        "Develop a python code to provide association rules from the generated frequent item sets in exercise  1 with  minimum  confidence  of  80%."
      ]
    },
    {
      "cell_type": "code",
      "metadata": {
        "colab": {
          "base_uri": "https://localhost:8080/",
          "height": 697
        },
        "id": "RdHHB6vzXy25",
        "outputId": "7c6c87b3-cb2a-4f46-ca7a-0d02c71297a0"
      },
      "source": [
        "import numpy as np\n",
        "import pandas as pd\n",
        "from mlxtend.frequent_patterns import apriori, association_rules\n",
        "from mlxtend.preprocessing import TransactionEncoder\n",
        "dataset = [[\"a\",\"b\",\"c\"], [\"a\",\"b\"], [\"a\",\"b\",\"d\"], [\"b\",\"e\"],\n",
        "[\"b\",\"c\",\"e\"], [\"a\",\"d\",\"e\"], [\"a\",\"c\"], [\"a\",\"b\",\"d\"],\n",
        "[\"c\",\"e\"], [\"a\",\"b\",\"d\",\"e\"], [\"a\",\"b\",\"e\",\"c\"]]\n",
        "te = TransactionEncoder()\n",
        "te_ary = te.fit(dataset).transform(dataset)\n",
        "df = pd.DataFrame(te_ary, columns=te.columns_)\n",
        "print(df)\n",
        "apriori(df, min_support=0.2, use_colnames=True)"
      ],
      "execution_count": 12,
      "outputs": [
        {
          "output_type": "stream",
          "name": "stdout",
          "text": [
            "        a      b      c      d      e\n",
            "0    True   True   True  False  False\n",
            "1    True   True  False  False  False\n",
            "2    True   True  False   True  False\n",
            "3   False   True  False  False   True\n",
            "4   False   True   True  False   True\n",
            "5    True  False  False   True   True\n",
            "6    True  False   True  False  False\n",
            "7    True   True  False   True  False\n",
            "8   False  False   True  False   True\n",
            "9    True   True  False   True   True\n",
            "10   True   True   True  False   True\n"
          ]
        },
        {
          "output_type": "execute_result",
          "data": {
            "text/html": [
              "<div>\n",
              "<style scoped>\n",
              "    .dataframe tbody tr th:only-of-type {\n",
              "        vertical-align: middle;\n",
              "    }\n",
              "\n",
              "    .dataframe tbody tr th {\n",
              "        vertical-align: top;\n",
              "    }\n",
              "\n",
              "    .dataframe thead th {\n",
              "        text-align: right;\n",
              "    }\n",
              "</style>\n",
              "<table border=\"1\" class=\"dataframe\">\n",
              "  <thead>\n",
              "    <tr style=\"text-align: right;\">\n",
              "      <th></th>\n",
              "      <th>support</th>\n",
              "      <th>itemsets</th>\n",
              "    </tr>\n",
              "  </thead>\n",
              "  <tbody>\n",
              "    <tr>\n",
              "      <th>0</th>\n",
              "      <td>0.727273</td>\n",
              "      <td>(a)</td>\n",
              "    </tr>\n",
              "    <tr>\n",
              "      <th>1</th>\n",
              "      <td>0.727273</td>\n",
              "      <td>(b)</td>\n",
              "    </tr>\n",
              "    <tr>\n",
              "      <th>2</th>\n",
              "      <td>0.454545</td>\n",
              "      <td>(c)</td>\n",
              "    </tr>\n",
              "    <tr>\n",
              "      <th>3</th>\n",
              "      <td>0.363636</td>\n",
              "      <td>(d)</td>\n",
              "    </tr>\n",
              "    <tr>\n",
              "      <th>4</th>\n",
              "      <td>0.545455</td>\n",
              "      <td>(e)</td>\n",
              "    </tr>\n",
              "    <tr>\n",
              "      <th>5</th>\n",
              "      <td>0.545455</td>\n",
              "      <td>(a, b)</td>\n",
              "    </tr>\n",
              "    <tr>\n",
              "      <th>6</th>\n",
              "      <td>0.272727</td>\n",
              "      <td>(a, c)</td>\n",
              "    </tr>\n",
              "    <tr>\n",
              "      <th>7</th>\n",
              "      <td>0.363636</td>\n",
              "      <td>(d, a)</td>\n",
              "    </tr>\n",
              "    <tr>\n",
              "      <th>8</th>\n",
              "      <td>0.272727</td>\n",
              "      <td>(e, a)</td>\n",
              "    </tr>\n",
              "    <tr>\n",
              "      <th>9</th>\n",
              "      <td>0.272727</td>\n",
              "      <td>(b, c)</td>\n",
              "    </tr>\n",
              "    <tr>\n",
              "      <th>10</th>\n",
              "      <td>0.272727</td>\n",
              "      <td>(d, b)</td>\n",
              "    </tr>\n",
              "    <tr>\n",
              "      <th>11</th>\n",
              "      <td>0.363636</td>\n",
              "      <td>(e, b)</td>\n",
              "    </tr>\n",
              "    <tr>\n",
              "      <th>12</th>\n",
              "      <td>0.272727</td>\n",
              "      <td>(e, c)</td>\n",
              "    </tr>\n",
              "    <tr>\n",
              "      <th>13</th>\n",
              "      <td>0.272727</td>\n",
              "      <td>(d, a, b)</td>\n",
              "    </tr>\n",
              "  </tbody>\n",
              "</table>\n",
              "</div>"
            ],
            "text/plain": [
              "     support   itemsets\n",
              "0   0.727273        (a)\n",
              "1   0.727273        (b)\n",
              "2   0.454545        (c)\n",
              "3   0.363636        (d)\n",
              "4   0.545455        (e)\n",
              "5   0.545455     (a, b)\n",
              "6   0.272727     (a, c)\n",
              "7   0.363636     (d, a)\n",
              "8   0.272727     (e, a)\n",
              "9   0.272727     (b, c)\n",
              "10  0.272727     (d, b)\n",
              "11  0.363636     (e, b)\n",
              "12  0.272727     (e, c)\n",
              "13  0.272727  (d, a, b)"
            ]
          },
          "metadata": {},
          "execution_count": 12
        }
      ]
    }
  ]
}