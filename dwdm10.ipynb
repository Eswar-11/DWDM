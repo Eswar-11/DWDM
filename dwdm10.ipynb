{
  "nbformat": 4,
  "nbformat_minor": 0,
  "metadata": {
    "colab": {
      "name": "dwdm10.ipynb",
      "provenance": [],
      "collapsed_sections": [],
      "include_colab_link": true
    },
    "kernelspec": {
      "name": "python3",
      "display_name": "Python 3"
    },
    "language_info": {
      "name": "python"
    }
  },
  "cells": [
    {
      "cell_type": "markdown",
      "metadata": {
        "id": "view-in-github",
        "colab_type": "text"
      },
      "source": [
        "<a href=\"https://colab.research.google.com/github/Eswar-11/DWDM/blob/main/dwdm10.ipynb\" target=\"_parent\"><img src=\"https://colab.research.google.com/assets/colab-badge.svg\" alt=\"Open In Colab\"/></a>"
      ]
    },
    {
      "cell_type": "markdown",
      "metadata": {
        "id": "za1BIF6VggbY"
      },
      "source": [
        ""
      ]
    },
    {
      "cell_type": "markdown",
      "metadata": {
        "id": "r4Ze3-M3Wsmc"
      },
      "source": [
        "# Lab Exercise-10"
      ]
    },
    {
      "cell_type": "markdown",
      "metadata": {
        "id": "gRj960RyW5a5"
      },
      "source": [
        "**K.Bala Eswar**\n",
        "\n",
        "**19BCN7003**\n",
        "\n",
        "**L29+L30+L19+L20+L45+L46**\n"
      ]
    },
    {
      "cell_type": "markdown",
      "metadata": {
        "id": "xYHuY-ZpXjGD"
      },
      "source": [
        ""
      ]
    },
    {
      "cell_type": "markdown",
      "metadata": {
        "id": "OEOvFK8xTwT-"
      },
      "source": [
        "**1)\tDevelop a Python functionto calculate Information Gain and Gini Indexmeasures onacategorical attribute.**\n",
        "\n",
        "**Input: A data frame consists of Attributeand itsClass Label**\n",
        "\n",
        "**Output: Splitting Criteria, Data Partitions after splitting, and corresponding calculated measure values.**\n"
      ]
    },
    {
      "cell_type": "code",
      "metadata": {
        "colab": {
          "base_uri": "https://localhost:8080/",
          "height": 480
        },
        "id": "IqYOHJkLTvMa",
        "outputId": "900b434b-43ac-4096-a525-94020c4e503f"
      },
      "source": [
        "import pandas as pd\n",
        "import io\n",
        "import requests\n",
        "df = pd.read_csv('/tennis.csv')\n",
        "df\n",
        "#19bcn7003"
      ],
      "execution_count": 2,
      "outputs": [
        {
          "output_type": "execute_result",
          "data": {
            "text/html": [
              "<div>\n",
              "<style scoped>\n",
              "    .dataframe tbody tr th:only-of-type {\n",
              "        vertical-align: middle;\n",
              "    }\n",
              "\n",
              "    .dataframe tbody tr th {\n",
              "        vertical-align: top;\n",
              "    }\n",
              "\n",
              "    .dataframe thead th {\n",
              "        text-align: right;\n",
              "    }\n",
              "</style>\n",
              "<table border=\"1\" class=\"dataframe\">\n",
              "  <thead>\n",
              "    <tr style=\"text-align: right;\">\n",
              "      <th></th>\n",
              "      <th>outlook</th>\n",
              "      <th>temp</th>\n",
              "      <th>humidity</th>\n",
              "      <th>windy</th>\n",
              "      <th>play</th>\n",
              "    </tr>\n",
              "  </thead>\n",
              "  <tbody>\n",
              "    <tr>\n",
              "      <th>0</th>\n",
              "      <td>sunny</td>\n",
              "      <td>hot</td>\n",
              "      <td>high</td>\n",
              "      <td>False</td>\n",
              "      <td>no</td>\n",
              "    </tr>\n",
              "    <tr>\n",
              "      <th>1</th>\n",
              "      <td>sunny</td>\n",
              "      <td>hot</td>\n",
              "      <td>high</td>\n",
              "      <td>True</td>\n",
              "      <td>no</td>\n",
              "    </tr>\n",
              "    <tr>\n",
              "      <th>2</th>\n",
              "      <td>overcast</td>\n",
              "      <td>hot</td>\n",
              "      <td>high</td>\n",
              "      <td>False</td>\n",
              "      <td>yes</td>\n",
              "    </tr>\n",
              "    <tr>\n",
              "      <th>3</th>\n",
              "      <td>rainy</td>\n",
              "      <td>mild</td>\n",
              "      <td>high</td>\n",
              "      <td>False</td>\n",
              "      <td>yes</td>\n",
              "    </tr>\n",
              "    <tr>\n",
              "      <th>4</th>\n",
              "      <td>rainy</td>\n",
              "      <td>cool</td>\n",
              "      <td>normal</td>\n",
              "      <td>False</td>\n",
              "      <td>yes</td>\n",
              "    </tr>\n",
              "    <tr>\n",
              "      <th>5</th>\n",
              "      <td>rainy</td>\n",
              "      <td>cool</td>\n",
              "      <td>normal</td>\n",
              "      <td>True</td>\n",
              "      <td>no</td>\n",
              "    </tr>\n",
              "    <tr>\n",
              "      <th>6</th>\n",
              "      <td>overcast</td>\n",
              "      <td>cool</td>\n",
              "      <td>normal</td>\n",
              "      <td>True</td>\n",
              "      <td>yes</td>\n",
              "    </tr>\n",
              "    <tr>\n",
              "      <th>7</th>\n",
              "      <td>sunny</td>\n",
              "      <td>mild</td>\n",
              "      <td>high</td>\n",
              "      <td>False</td>\n",
              "      <td>no</td>\n",
              "    </tr>\n",
              "    <tr>\n",
              "      <th>8</th>\n",
              "      <td>sunny</td>\n",
              "      <td>cool</td>\n",
              "      <td>normal</td>\n",
              "      <td>False</td>\n",
              "      <td>yes</td>\n",
              "    </tr>\n",
              "    <tr>\n",
              "      <th>9</th>\n",
              "      <td>rainy</td>\n",
              "      <td>mild</td>\n",
              "      <td>normal</td>\n",
              "      <td>False</td>\n",
              "      <td>yes</td>\n",
              "    </tr>\n",
              "    <tr>\n",
              "      <th>10</th>\n",
              "      <td>sunny</td>\n",
              "      <td>mild</td>\n",
              "      <td>normal</td>\n",
              "      <td>True</td>\n",
              "      <td>yes</td>\n",
              "    </tr>\n",
              "    <tr>\n",
              "      <th>11</th>\n",
              "      <td>overcast</td>\n",
              "      <td>mild</td>\n",
              "      <td>high</td>\n",
              "      <td>True</td>\n",
              "      <td>yes</td>\n",
              "    </tr>\n",
              "    <tr>\n",
              "      <th>12</th>\n",
              "      <td>overcast</td>\n",
              "      <td>hot</td>\n",
              "      <td>normal</td>\n",
              "      <td>False</td>\n",
              "      <td>yes</td>\n",
              "    </tr>\n",
              "    <tr>\n",
              "      <th>13</th>\n",
              "      <td>rainy</td>\n",
              "      <td>mild</td>\n",
              "      <td>high</td>\n",
              "      <td>True</td>\n",
              "      <td>no</td>\n",
              "    </tr>\n",
              "  </tbody>\n",
              "</table>\n",
              "</div>"
            ],
            "text/plain": [
              "     outlook  temp humidity  windy play\n",
              "0      sunny   hot     high  False   no\n",
              "1      sunny   hot     high   True   no\n",
              "2   overcast   hot     high  False  yes\n",
              "3      rainy  mild     high  False  yes\n",
              "4      rainy  cool   normal  False  yes\n",
              "5      rainy  cool   normal   True   no\n",
              "6   overcast  cool   normal   True  yes\n",
              "7      sunny  mild     high  False   no\n",
              "8      sunny  cool   normal  False  yes\n",
              "9      rainy  mild   normal  False  yes\n",
              "10     sunny  mild   normal   True  yes\n",
              "11  overcast  mild     high   True  yes\n",
              "12  overcast   hot   normal  False  yes\n",
              "13     rainy  mild     high   True   no"
            ]
          },
          "metadata": {},
          "execution_count": 2
        }
      ]
    },
    {
      "cell_type": "code",
      "metadata": {
        "id": "UkJuIlgBVKcm"
      },
      "source": [
        "def compute_impurity(feature, impurity_criterion):\n",
        "\n",
        "    probs = feature.value_counts(normalize=True)\n",
        "\n",
        "    if impurity_criterion == 'entropy':\n",
        "        impurity = -1 * np.sum(np.log2(probs) * probs)\n",
        "    elif impurity_criterion == 'gini':\n",
        "        impurity = 1 - np.sum(np.square(probs))\n",
        "    else:\n",
        "        raise ValueError('Unknown impurity criterion')\n",
        "\n",
        "    return(round(impurity, 3))\n",
        "    #19bcn7003"
      ],
      "execution_count": 3,
      "outputs": []
    },
    {
      "cell_type": "code",
      "metadata": {
        "colab": {
          "base_uri": "https://localhost:8080/",
          "height": 0
        },
        "id": "VOm8VH-vWnfh",
        "outputId": "c0e4fc04-dd8e-41c6-a3d6-e9705a4cca66"
      },
      "source": [
        "import numpy as np\n",
        "target_entropy = compute_impurity(df['play'], 'entropy')\n",
        "target_entropy\n",
        "#19bcn7003"
      ],
      "execution_count": 4,
      "outputs": [
        {
          "output_type": "execute_result",
          "data": {
            "text/plain": [
              "0.94"
            ]
          },
          "metadata": {},
          "execution_count": 4
        }
      ]
    },
    {
      "cell_type": "code",
      "metadata": {
        "colab": {
          "base_uri": "https://localhost:8080/",
          "height": 0
        },
        "id": "_LZIRCkKWz7T",
        "outputId": "d2b3d9bc-22e4-4dc8-910e-41bf0a721c05"
      },
      "source": [
        "df['windy'].value_counts()\n",
        "#19bcn7003"
      ],
      "execution_count": 5,
      "outputs": [
        {
          "output_type": "execute_result",
          "data": {
            "text/plain": [
              "False    8\n",
              "True     6\n",
              "Name: windy, dtype: int64"
            ]
          },
          "metadata": {},
          "execution_count": 5
        }
      ]
    },
    {
      "cell_type": "code",
      "metadata": {
        "colab": {
          "base_uri": "https://localhost:8080/",
          "height": 0
        },
        "id": "YVvrYIPpW4Y7",
        "outputId": "4ebbf810-5578-49a5-873b-c8d9ff8bd9eb"
      },
      "source": [
        "for level in df['windy'].unique():\n",
        "    print('level name:', level)\n",
        "    df_feature_level = df[df['windy'] == level]\n",
        "    print('corresponding data partition:')\n",
        "    print(df_feature_level)\n",
        "    print('partition target feature impurity:', compute_impurity(df_feature_level['play'], 'entropy'))\n",
        "    print('partition weight:', str(len(df_feature_level)) + '/' + str(len(df)))\n",
        "    print('====================')\n",
        "    #19bcn7003"
      ],
      "execution_count": 6,
      "outputs": [
        {
          "output_type": "stream",
          "name": "stdout",
          "text": [
            "level name: False\n",
            "corresponding data partition:\n",
            "     outlook  temp humidity  windy play\n",
            "0      sunny   hot     high  False   no\n",
            "2   overcast   hot     high  False  yes\n",
            "3      rainy  mild     high  False  yes\n",
            "4      rainy  cool   normal  False  yes\n",
            "7      sunny  mild     high  False   no\n",
            "8      sunny  cool   normal  False  yes\n",
            "9      rainy  mild   normal  False  yes\n",
            "12  overcast   hot   normal  False  yes\n",
            "partition target feature impurity: 0.811\n",
            "partition weight: 8/14\n",
            "====================\n",
            "level name: True\n",
            "corresponding data partition:\n",
            "     outlook  temp humidity  windy play\n",
            "1      sunny   hot     high   True   no\n",
            "5      rainy  cool   normal   True   no\n",
            "6   overcast  cool   normal   True  yes\n",
            "10     sunny  mild   normal   True  yes\n",
            "11  overcast  mild     high   True  yes\n",
            "13     rainy  mild     high   True   no\n",
            "partition target feature impurity: 1.0\n",
            "partition weight: 6/14\n",
            "====================\n"
          ]
        }
      ]
    },
    {
      "cell_type": "code",
      "metadata": {
        "id": "LKM0KlonZ2AK"
      },
      "source": [
        "def comp_feature_information_gain(df, target, descriptive_feature, split_criterion):\n",
        "    print('target feature:', target)\n",
        "    print('descriptive_feature:', descriptive_feature)\n",
        "    print('split criterion:', split_criterion)\n",
        " \n",
        "    target_entropy = compute_impurity(df[target], split_criterion)\n",
        " \n",
        "    entropy_list = list()\n",
        "    weight_list = list()\n",
        " \n",
        " \n",
        "    for level in df[descriptive_feature].unique():\n",
        "        df_feature_level = df[df[descriptive_feature] == level]\n",
        "        entropy_level = compute_impurity(df_feature_level[target], split_criterion)\n",
        "        entropy_list.append(round(entropy_level, 3))\n",
        "        weight_level = len(df_feature_level) / len(df)\n",
        "        weight_list.append(round(weight_level, 3))\n",
        "    print('impurity of partitions:', entropy_list)\n",
        "    print('weights of partitions:', weight_list)\n",
        "        \n",
        "    feature_remaining_impurity = np.sum(np.array(entropy_list) * np.array(weight_list))\n",
        "    print('remaining impurity:', feature_remaining_impurity)\n",
        " \n",
        "    information_gain = target_entropy - feature_remaining_impurity\n",
        "    print('information gain:', information_gain)\n",
        "    print('====================')\n",
        "    return(information_gain)\n",
        "    #19bcn7003"
      ],
      "execution_count": 7,
      "outputs": []
    },
    {
      "cell_type": "code",
      "metadata": {
        "colab": {
          "base_uri": "https://localhost:8080/",
          "height": 0
        },
        "id": "t6ULhwnQbBrH",
        "outputId": "7d5f7007-7cf9-4a8b-c209-33fd0a821c11"
      },
      "source": [
        "split_criteria = 'gini'\n",
        "for feature in df.drop(columns='play').columns:\n",
        "    feature_info_gain = comp_feature_information_gain(df, 'play', feature, split_criteria)\n",
        "#19bcn7003"
      ],
      "execution_count": 8,
      "outputs": [
        {
          "output_type": "stream",
          "name": "stdout",
          "text": [
            "target feature: play\n",
            "descriptive_feature: outlook\n",
            "split criterion: gini\n",
            "impurity of partitions: [0.48, 0.0, 0.48]\n",
            "weights of partitions: [0.357, 0.286, 0.357]\n",
            "remaining impurity: 0.34271999999999997\n",
            "information gain: 0.11628000000000005\n",
            "====================\n",
            "target feature: play\n",
            "descriptive_feature: temp\n",
            "split criterion: gini\n",
            "impurity of partitions: [0.5, 0.444, 0.375]\n",
            "weights of partitions: [0.286, 0.429, 0.286]\n",
            "remaining impurity: 0.44072599999999995\n",
            "information gain: 0.018274000000000068\n",
            "====================\n",
            "target feature: play\n",
            "descriptive_feature: humidity\n",
            "split criterion: gini\n",
            "impurity of partitions: [0.49, 0.245]\n",
            "weights of partitions: [0.5, 0.5]\n",
            "remaining impurity: 0.3675\n",
            "information gain: 0.09150000000000003\n",
            "====================\n",
            "target feature: play\n",
            "descriptive_feature: windy\n",
            "split criterion: gini\n",
            "impurity of partitions: [0.375, 0.5]\n",
            "weights of partitions: [0.571, 0.429]\n",
            "remaining impurity: 0.428625\n",
            "information gain: 0.03037500000000004\n",
            "====================\n"
          ]
        }
      ]
    },
    {
      "cell_type": "markdown",
      "metadata": {
        "id": "PJzvDRtFbH2_"
      },
      "source": [
        "**2) Develop a Python functionto calculate Information Gain and Gini Index measures ona numericalattribute.**\n",
        "\n",
        "**Input: A data frame consists of Attribute and its Class Label**\n",
        "\n",
        "**Output: Splitting Criteria, Data Partitions after splitting, and corresponding calculated measure values.**"
      ]
    },
    {
      "cell_type": "code",
      "metadata": {
        "colab": {
          "base_uri": "https://localhost:8080/",
          "height": 417
        },
        "id": "VBOtwvXtbJuN",
        "outputId": "2f003deb-53cd-457b-e66e-d8f062b405f8"
      },
      "source": [
        "df1 = pd.read_csv('/IRIS.csv')\n",
        "df1\n",
        "#19bcn7003"
      ],
      "execution_count": 10,
      "outputs": [
        {
          "output_type": "execute_result",
          "data": {
            "text/html": [
              "<div>\n",
              "<style scoped>\n",
              "    .dataframe tbody tr th:only-of-type {\n",
              "        vertical-align: middle;\n",
              "    }\n",
              "\n",
              "    .dataframe tbody tr th {\n",
              "        vertical-align: top;\n",
              "    }\n",
              "\n",
              "    .dataframe thead th {\n",
              "        text-align: right;\n",
              "    }\n",
              "</style>\n",
              "<table border=\"1\" class=\"dataframe\">\n",
              "  <thead>\n",
              "    <tr style=\"text-align: right;\">\n",
              "      <th></th>\n",
              "      <th>sepal_length</th>\n",
              "      <th>sepal_width</th>\n",
              "      <th>petal_length</th>\n",
              "      <th>petal_width</th>\n",
              "      <th>species</th>\n",
              "    </tr>\n",
              "  </thead>\n",
              "  <tbody>\n",
              "    <tr>\n",
              "      <th>0</th>\n",
              "      <td>5.1</td>\n",
              "      <td>3.5</td>\n",
              "      <td>1.4</td>\n",
              "      <td>0.2</td>\n",
              "      <td>Iris-setosa</td>\n",
              "    </tr>\n",
              "    <tr>\n",
              "      <th>1</th>\n",
              "      <td>4.9</td>\n",
              "      <td>3.0</td>\n",
              "      <td>1.4</td>\n",
              "      <td>0.2</td>\n",
              "      <td>Iris-setosa</td>\n",
              "    </tr>\n",
              "    <tr>\n",
              "      <th>2</th>\n",
              "      <td>4.7</td>\n",
              "      <td>3.2</td>\n",
              "      <td>1.3</td>\n",
              "      <td>0.2</td>\n",
              "      <td>Iris-setosa</td>\n",
              "    </tr>\n",
              "    <tr>\n",
              "      <th>3</th>\n",
              "      <td>4.6</td>\n",
              "      <td>3.1</td>\n",
              "      <td>1.5</td>\n",
              "      <td>0.2</td>\n",
              "      <td>Iris-setosa</td>\n",
              "    </tr>\n",
              "    <tr>\n",
              "      <th>4</th>\n",
              "      <td>5.0</td>\n",
              "      <td>3.6</td>\n",
              "      <td>1.4</td>\n",
              "      <td>0.2</td>\n",
              "      <td>Iris-setosa</td>\n",
              "    </tr>\n",
              "    <tr>\n",
              "      <th>...</th>\n",
              "      <td>...</td>\n",
              "      <td>...</td>\n",
              "      <td>...</td>\n",
              "      <td>...</td>\n",
              "      <td>...</td>\n",
              "    </tr>\n",
              "    <tr>\n",
              "      <th>145</th>\n",
              "      <td>6.7</td>\n",
              "      <td>3.0</td>\n",
              "      <td>5.2</td>\n",
              "      <td>2.3</td>\n",
              "      <td>Iris-virginica</td>\n",
              "    </tr>\n",
              "    <tr>\n",
              "      <th>146</th>\n",
              "      <td>6.3</td>\n",
              "      <td>2.5</td>\n",
              "      <td>5.0</td>\n",
              "      <td>1.9</td>\n",
              "      <td>Iris-virginica</td>\n",
              "    </tr>\n",
              "    <tr>\n",
              "      <th>147</th>\n",
              "      <td>6.5</td>\n",
              "      <td>3.0</td>\n",
              "      <td>5.2</td>\n",
              "      <td>2.0</td>\n",
              "      <td>Iris-virginica</td>\n",
              "    </tr>\n",
              "    <tr>\n",
              "      <th>148</th>\n",
              "      <td>6.2</td>\n",
              "      <td>3.4</td>\n",
              "      <td>5.4</td>\n",
              "      <td>2.3</td>\n",
              "      <td>Iris-virginica</td>\n",
              "    </tr>\n",
              "    <tr>\n",
              "      <th>149</th>\n",
              "      <td>5.9</td>\n",
              "      <td>3.0</td>\n",
              "      <td>5.1</td>\n",
              "      <td>1.8</td>\n",
              "      <td>Iris-virginica</td>\n",
              "    </tr>\n",
              "  </tbody>\n",
              "</table>\n",
              "<p>150 rows × 5 columns</p>\n",
              "</div>"
            ],
            "text/plain": [
              "     sepal_length  sepal_width  petal_length  petal_width         species\n",
              "0             5.1          3.5           1.4          0.2     Iris-setosa\n",
              "1             4.9          3.0           1.4          0.2     Iris-setosa\n",
              "2             4.7          3.2           1.3          0.2     Iris-setosa\n",
              "3             4.6          3.1           1.5          0.2     Iris-setosa\n",
              "4             5.0          3.6           1.4          0.2     Iris-setosa\n",
              "..            ...          ...           ...          ...             ...\n",
              "145           6.7          3.0           5.2          2.3  Iris-virginica\n",
              "146           6.3          2.5           5.0          1.9  Iris-virginica\n",
              "147           6.5          3.0           5.2          2.0  Iris-virginica\n",
              "148           6.2          3.4           5.4          2.3  Iris-virginica\n",
              "149           5.9          3.0           5.1          1.8  Iris-virginica\n",
              "\n",
              "[150 rows x 5 columns]"
            ]
          },
          "metadata": {},
          "execution_count": 10
        }
      ]
    },
    {
      "cell_type": "code",
      "metadata": {
        "id": "H5eVnQW8bdjP"
      },
      "source": [
        "def compute_impurity1(feature, impurity_criterion):\n",
        "\n",
        "    probs = feature.value_counts(normalize=True)\n",
        " \n",
        "    if impurity_criterion == 'entropy':\n",
        "        impurity = -1 * np.sum(np.log2(probs) * probs)\n",
        "    elif impurity_criterion == 'gini':\n",
        "        impurity = 1 - np.sum(np.square(probs))\n",
        "    else:\n",
        "        raise ValueError('Unknown impurity criterion')\n",
        " \n",
        "    return(round(impurity, 3))\n",
        "    #19bcn7003"
      ],
      "execution_count": 11,
      "outputs": []
    },
    {
      "cell_type": "code",
      "metadata": {
        "colab": {
          "base_uri": "https://localhost:8080/",
          "height": 0
        },
        "id": "OMPTXkl6cNB3",
        "outputId": "6225f95e-6980-46e7-9356-2da2dd4b8198"
      },
      "source": [
        "\n",
        "target_entropy1 = compute_impurity1(df1['species'], 'entropy')\n",
        "target_entropy1\n",
        "#19bcn7003"
      ],
      "execution_count": 12,
      "outputs": [
        {
          "output_type": "execute_result",
          "data": {
            "text/plain": [
              "1.585"
            ]
          },
          "metadata": {},
          "execution_count": 12
        }
      ]
    },
    {
      "cell_type": "code",
      "metadata": {
        "colab": {
          "base_uri": "https://localhost:8080/",
          "height": 0
        },
        "id": "6492jaTPdL3_",
        "outputId": "6aa00d07-ed5c-4b12-9cf2-5e8e5d872160"
      },
      "source": [
        "df1['petal_width'].value_counts()\n",
        "#19bcn7003"
      ],
      "execution_count": 13,
      "outputs": [
        {
          "output_type": "execute_result",
          "data": {
            "text/plain": [
              "0.2    28\n",
              "1.3    13\n",
              "1.5    12\n",
              "1.8    12\n",
              "1.4     8\n",
              "2.3     8\n",
              "1.0     7\n",
              "0.3     7\n",
              "0.4     7\n",
              "0.1     6\n",
              "2.0     6\n",
              "2.1     6\n",
              "1.2     5\n",
              "1.9     5\n",
              "1.6     4\n",
              "2.5     3\n",
              "2.2     3\n",
              "2.4     3\n",
              "1.1     3\n",
              "1.7     2\n",
              "0.6     1\n",
              "0.5     1\n",
              "Name: petal_width, dtype: int64"
            ]
          },
          "metadata": {},
          "execution_count": 13
        }
      ]
    },
    {
      "cell_type": "code",
      "metadata": {
        "colab": {
          "base_uri": "https://localhost:8080/",
          "height": 0
        },
        "id": "HeZzrgJudPst",
        "outputId": "c58e13d3-b773-4d64-c6f2-a6727870942d"
      },
      "source": [
        "for level in df1['petal_width'].unique():\n",
        "    print('level name:', level)\n",
        "    df_feature_level = df1[df1['petal_width'] == level]\n",
        "    print('corresponding data partition:')\n",
        "    print(df_feature_level)\n",
        "    print('partition target feature impurity:', compute_impurity1(df_feature_level['species'],'entropy'))\n",
        "    print('partition weight:', str(len(df_feature_level)) + '/' + str(len(df)))\n",
        "    print('====================')\n",
        "    #19bcn7003"
      ],
      "execution_count": 14,
      "outputs": [
        {
          "output_type": "stream",
          "name": "stdout",
          "text": [
            "level name: 0.2\n",
            "corresponding data partition:\n",
            "    sepal_length  sepal_width  petal_length  petal_width      species\n",
            "0            5.1          3.5           1.4          0.2  Iris-setosa\n",
            "1            4.9          3.0           1.4          0.2  Iris-setosa\n",
            "2            4.7          3.2           1.3          0.2  Iris-setosa\n",
            "3            4.6          3.1           1.5          0.2  Iris-setosa\n",
            "4            5.0          3.6           1.4          0.2  Iris-setosa\n",
            "7            5.0          3.4           1.5          0.2  Iris-setosa\n",
            "8            4.4          2.9           1.4          0.2  Iris-setosa\n",
            "10           5.4          3.7           1.5          0.2  Iris-setosa\n",
            "11           4.8          3.4           1.6          0.2  Iris-setosa\n",
            "14           5.8          4.0           1.2          0.2  Iris-setosa\n",
            "20           5.4          3.4           1.7          0.2  Iris-setosa\n",
            "22           4.6          3.6           1.0          0.2  Iris-setosa\n",
            "24           4.8          3.4           1.9          0.2  Iris-setosa\n",
            "25           5.0          3.0           1.6          0.2  Iris-setosa\n",
            "27           5.2          3.5           1.5          0.2  Iris-setosa\n",
            "28           5.2          3.4           1.4          0.2  Iris-setosa\n",
            "29           4.7          3.2           1.6          0.2  Iris-setosa\n",
            "30           4.8          3.1           1.6          0.2  Iris-setosa\n",
            "33           5.5          4.2           1.4          0.2  Iris-setosa\n",
            "35           5.0          3.2           1.2          0.2  Iris-setosa\n",
            "36           5.5          3.5           1.3          0.2  Iris-setosa\n",
            "38           4.4          3.0           1.3          0.2  Iris-setosa\n",
            "39           5.1          3.4           1.5          0.2  Iris-setosa\n",
            "42           4.4          3.2           1.3          0.2  Iris-setosa\n",
            "46           5.1          3.8           1.6          0.2  Iris-setosa\n",
            "47           4.6          3.2           1.4          0.2  Iris-setosa\n",
            "48           5.3          3.7           1.5          0.2  Iris-setosa\n",
            "49           5.0          3.3           1.4          0.2  Iris-setosa\n",
            "partition target feature impurity: -0.0\n",
            "partition weight: 28/14\n",
            "====================\n",
            "level name: 0.4\n",
            "corresponding data partition:\n",
            "    sepal_length  sepal_width  petal_length  petal_width      species\n",
            "5            5.4          3.9           1.7          0.4  Iris-setosa\n",
            "15           5.7          4.4           1.5          0.4  Iris-setosa\n",
            "16           5.4          3.9           1.3          0.4  Iris-setosa\n",
            "21           5.1          3.7           1.5          0.4  Iris-setosa\n",
            "26           5.0          3.4           1.6          0.4  Iris-setosa\n",
            "31           5.4          3.4           1.5          0.4  Iris-setosa\n",
            "44           5.1          3.8           1.9          0.4  Iris-setosa\n",
            "partition target feature impurity: -0.0\n",
            "partition weight: 7/14\n",
            "====================\n",
            "level name: 0.3\n",
            "corresponding data partition:\n",
            "    sepal_length  sepal_width  petal_length  petal_width      species\n",
            "6            4.6          3.4           1.4          0.3  Iris-setosa\n",
            "17           5.1          3.5           1.4          0.3  Iris-setosa\n",
            "18           5.7          3.8           1.7          0.3  Iris-setosa\n",
            "19           5.1          3.8           1.5          0.3  Iris-setosa\n",
            "40           5.0          3.5           1.3          0.3  Iris-setosa\n",
            "41           4.5          2.3           1.3          0.3  Iris-setosa\n",
            "45           4.8          3.0           1.4          0.3  Iris-setosa\n",
            "partition target feature impurity: -0.0\n",
            "partition weight: 7/14\n",
            "====================\n",
            "level name: 0.1\n",
            "corresponding data partition:\n",
            "    sepal_length  sepal_width  petal_length  petal_width      species\n",
            "9            4.9          3.1           1.5          0.1  Iris-setosa\n",
            "12           4.8          3.0           1.4          0.1  Iris-setosa\n",
            "13           4.3          3.0           1.1          0.1  Iris-setosa\n",
            "32           5.2          4.1           1.5          0.1  Iris-setosa\n",
            "34           4.9          3.1           1.5          0.1  Iris-setosa\n",
            "37           4.9          3.1           1.5          0.1  Iris-setosa\n",
            "partition target feature impurity: -0.0\n",
            "partition weight: 6/14\n",
            "====================\n",
            "level name: 0.5\n",
            "corresponding data partition:\n",
            "    sepal_length  sepal_width  petal_length  petal_width      species\n",
            "23           5.1          3.3           1.7          0.5  Iris-setosa\n",
            "partition target feature impurity: -0.0\n",
            "partition weight: 1/14\n",
            "====================\n",
            "level name: 0.6\n",
            "corresponding data partition:\n",
            "    sepal_length  sepal_width  petal_length  petal_width      species\n",
            "43           5.0          3.5           1.6          0.6  Iris-setosa\n",
            "partition target feature impurity: -0.0\n",
            "partition weight: 1/14\n",
            "====================\n",
            "level name: 1.4\n",
            "corresponding data partition:\n",
            "     sepal_length  sepal_width  petal_length  petal_width          species\n",
            "50            7.0          3.2           4.7          1.4  Iris-versicolor\n",
            "59            5.2          2.7           3.9          1.4  Iris-versicolor\n",
            "63            6.1          2.9           4.7          1.4  Iris-versicolor\n",
            "65            6.7          3.1           4.4          1.4  Iris-versicolor\n",
            "75            6.6          3.0           4.4          1.4  Iris-versicolor\n",
            "76            6.8          2.8           4.8          1.4  Iris-versicolor\n",
            "91            6.1          3.0           4.6          1.4  Iris-versicolor\n",
            "134           6.1          2.6           5.6          1.4   Iris-virginica\n",
            "partition target feature impurity: 0.544\n",
            "partition weight: 8/14\n",
            "====================\n",
            "level name: 1.5\n",
            "corresponding data partition:\n",
            "     sepal_length  sepal_width  petal_length  petal_width          species\n",
            "51            6.4          3.2           4.5          1.5  Iris-versicolor\n",
            "52            6.9          3.1           4.9          1.5  Iris-versicolor\n",
            "54            6.5          2.8           4.6          1.5  Iris-versicolor\n",
            "61            5.9          3.0           4.2          1.5  Iris-versicolor\n",
            "66            5.6          3.0           4.5          1.5  Iris-versicolor\n",
            "68            6.2          2.2           4.5          1.5  Iris-versicolor\n",
            "72            6.3          2.5           4.9          1.5  Iris-versicolor\n",
            "78            6.0          2.9           4.5          1.5  Iris-versicolor\n",
            "84            5.4          3.0           4.5          1.5  Iris-versicolor\n",
            "86            6.7          3.1           4.7          1.5  Iris-versicolor\n",
            "119           6.0          2.2           5.0          1.5   Iris-virginica\n",
            "133           6.3          2.8           5.1          1.5   Iris-virginica\n",
            "partition target feature impurity: 0.65\n",
            "partition weight: 12/14\n",
            "====================\n",
            "level name: 1.3\n",
            "corresponding data partition:\n",
            "    sepal_length  sepal_width  petal_length  petal_width          species\n",
            "53           5.5          2.3           4.0          1.3  Iris-versicolor\n",
            "55           5.7          2.8           4.5          1.3  Iris-versicolor\n",
            "58           6.6          2.9           4.6          1.3  Iris-versicolor\n",
            "64           5.6          2.9           3.6          1.3  Iris-versicolor\n",
            "71           6.1          2.8           4.0          1.3  Iris-versicolor\n",
            "74           6.4          2.9           4.3          1.3  Iris-versicolor\n",
            "87           6.3          2.3           4.4          1.3  Iris-versicolor\n",
            "88           5.6          3.0           4.1          1.3  Iris-versicolor\n",
            "89           5.5          2.5           4.0          1.3  Iris-versicolor\n",
            "94           5.6          2.7           4.2          1.3  Iris-versicolor\n",
            "96           5.7          2.9           4.2          1.3  Iris-versicolor\n",
            "97           6.2          2.9           4.3          1.3  Iris-versicolor\n",
            "99           5.7          2.8           4.1          1.3  Iris-versicolor\n",
            "partition target feature impurity: -0.0\n",
            "partition weight: 13/14\n",
            "====================\n",
            "level name: 1.6\n",
            "corresponding data partition:\n",
            "     sepal_length  sepal_width  petal_length  petal_width          species\n",
            "56            6.3          3.3           4.7          1.6  Iris-versicolor\n",
            "83            6.0          2.7           5.1          1.6  Iris-versicolor\n",
            "85            6.0          3.4           4.5          1.6  Iris-versicolor\n",
            "129           7.2          3.0           5.8          1.6   Iris-virginica\n",
            "partition target feature impurity: 0.811\n",
            "partition weight: 4/14\n",
            "====================\n",
            "level name: 1.0\n",
            "corresponding data partition:\n",
            "    sepal_length  sepal_width  petal_length  petal_width          species\n",
            "57           4.9          2.4           3.3          1.0  Iris-versicolor\n",
            "60           5.0          2.0           3.5          1.0  Iris-versicolor\n",
            "62           6.0          2.2           4.0          1.0  Iris-versicolor\n",
            "67           5.8          2.7           4.1          1.0  Iris-versicolor\n",
            "79           5.7          2.6           3.5          1.0  Iris-versicolor\n",
            "81           5.5          2.4           3.7          1.0  Iris-versicolor\n",
            "93           5.0          2.3           3.3          1.0  Iris-versicolor\n",
            "partition target feature impurity: -0.0\n",
            "partition weight: 7/14\n",
            "====================\n",
            "level name: 1.1\n",
            "corresponding data partition:\n",
            "    sepal_length  sepal_width  petal_length  petal_width          species\n",
            "69           5.6          2.5           3.9          1.1  Iris-versicolor\n",
            "80           5.5          2.4           3.8          1.1  Iris-versicolor\n",
            "98           5.1          2.5           3.0          1.1  Iris-versicolor\n",
            "partition target feature impurity: -0.0\n",
            "partition weight: 3/14\n",
            "====================\n",
            "level name: 1.8\n",
            "corresponding data partition:\n",
            "     sepal_length  sepal_width  petal_length  petal_width          species\n",
            "70            5.9          3.2           4.8          1.8  Iris-versicolor\n",
            "103           6.3          2.9           5.6          1.8   Iris-virginica\n",
            "107           7.3          2.9           6.3          1.8   Iris-virginica\n",
            "108           6.7          2.5           5.8          1.8   Iris-virginica\n",
            "116           6.5          3.0           5.5          1.8   Iris-virginica\n",
            "123           6.3          2.7           4.9          1.8   Iris-virginica\n",
            "125           7.2          3.2           6.0          1.8   Iris-virginica\n",
            "126           6.2          2.8           4.8          1.8   Iris-virginica\n",
            "127           6.1          3.0           4.9          1.8   Iris-virginica\n",
            "137           6.4          3.1           5.5          1.8   Iris-virginica\n",
            "138           6.0          3.0           4.8          1.8   Iris-virginica\n",
            "149           5.9          3.0           5.1          1.8   Iris-virginica\n",
            "partition target feature impurity: 0.414\n",
            "partition weight: 12/14\n",
            "====================\n",
            "level name: 1.2\n",
            "corresponding data partition:\n",
            "    sepal_length  sepal_width  petal_length  petal_width          species\n",
            "73           6.1          2.8           4.7          1.2  Iris-versicolor\n",
            "82           5.8          2.7           3.9          1.2  Iris-versicolor\n",
            "90           5.5          2.6           4.4          1.2  Iris-versicolor\n",
            "92           5.8          2.6           4.0          1.2  Iris-versicolor\n",
            "95           5.7          3.0           4.2          1.2  Iris-versicolor\n",
            "partition target feature impurity: -0.0\n",
            "partition weight: 5/14\n",
            "====================\n",
            "level name: 1.7\n",
            "corresponding data partition:\n",
            "     sepal_length  sepal_width  petal_length  petal_width          species\n",
            "77            6.7          3.0           5.0          1.7  Iris-versicolor\n",
            "106           4.9          2.5           4.5          1.7   Iris-virginica\n",
            "partition target feature impurity: 1.0\n",
            "partition weight: 2/14\n",
            "====================\n",
            "level name: 2.5\n",
            "corresponding data partition:\n",
            "     sepal_length  sepal_width  petal_length  petal_width         species\n",
            "100           6.3          3.3           6.0          2.5  Iris-virginica\n",
            "109           7.2          3.6           6.1          2.5  Iris-virginica\n",
            "144           6.7          3.3           5.7          2.5  Iris-virginica\n",
            "partition target feature impurity: -0.0\n",
            "partition weight: 3/14\n",
            "====================\n",
            "level name: 1.9\n",
            "corresponding data partition:\n",
            "     sepal_length  sepal_width  petal_length  petal_width         species\n",
            "101           5.8          2.7           5.1          1.9  Iris-virginica\n",
            "111           6.4          2.7           5.3          1.9  Iris-virginica\n",
            "130           7.4          2.8           6.1          1.9  Iris-virginica\n",
            "142           5.8          2.7           5.1          1.9  Iris-virginica\n",
            "146           6.3          2.5           5.0          1.9  Iris-virginica\n",
            "partition target feature impurity: -0.0\n",
            "partition weight: 5/14\n",
            "====================\n",
            "level name: 2.1\n",
            "corresponding data partition:\n",
            "     sepal_length  sepal_width  petal_length  petal_width         species\n",
            "102           7.1          3.0           5.9          2.1  Iris-virginica\n",
            "105           7.6          3.0           6.6          2.1  Iris-virginica\n",
            "112           6.8          3.0           5.5          2.1  Iris-virginica\n",
            "124           6.7          3.3           5.7          2.1  Iris-virginica\n",
            "128           6.4          2.8           5.6          2.1  Iris-virginica\n",
            "139           6.9          3.1           5.4          2.1  Iris-virginica\n",
            "partition target feature impurity: -0.0\n",
            "partition weight: 6/14\n",
            "====================\n",
            "level name: 2.2\n",
            "corresponding data partition:\n",
            "     sepal_length  sepal_width  petal_length  petal_width         species\n",
            "104           6.5          3.0           5.8          2.2  Iris-virginica\n",
            "117           7.7          3.8           6.7          2.2  Iris-virginica\n",
            "132           6.4          2.8           5.6          2.2  Iris-virginica\n",
            "partition target feature impurity: -0.0\n",
            "partition weight: 3/14\n",
            "====================\n",
            "level name: 2.0\n",
            "corresponding data partition:\n",
            "     sepal_length  sepal_width  petal_length  petal_width         species\n",
            "110           6.5          3.2           5.1          2.0  Iris-virginica\n",
            "113           5.7          2.5           5.0          2.0  Iris-virginica\n",
            "121           5.6          2.8           4.9          2.0  Iris-virginica\n",
            "122           7.7          2.8           6.7          2.0  Iris-virginica\n",
            "131           7.9          3.8           6.4          2.0  Iris-virginica\n",
            "147           6.5          3.0           5.2          2.0  Iris-virginica\n",
            "partition target feature impurity: -0.0\n",
            "partition weight: 6/14\n",
            "====================\n",
            "level name: 2.4\n",
            "corresponding data partition:\n",
            "     sepal_length  sepal_width  petal_length  petal_width         species\n",
            "114           5.8          2.8           5.1          2.4  Iris-virginica\n",
            "136           6.3          3.4           5.6          2.4  Iris-virginica\n",
            "140           6.7          3.1           5.6          2.4  Iris-virginica\n",
            "partition target feature impurity: -0.0\n",
            "partition weight: 3/14\n",
            "====================\n",
            "level name: 2.3\n",
            "corresponding data partition:\n",
            "     sepal_length  sepal_width  petal_length  petal_width         species\n",
            "115           6.4          3.2           5.3          2.3  Iris-virginica\n",
            "118           7.7          2.6           6.9          2.3  Iris-virginica\n",
            "120           6.9          3.2           5.7          2.3  Iris-virginica\n",
            "135           7.7          3.0           6.1          2.3  Iris-virginica\n",
            "141           6.9          3.1           5.1          2.3  Iris-virginica\n",
            "143           6.8          3.2           5.9          2.3  Iris-virginica\n",
            "145           6.7          3.0           5.2          2.3  Iris-virginica\n",
            "148           6.2          3.4           5.4          2.3  Iris-virginica\n",
            "partition target feature impurity: -0.0\n",
            "partition weight: 8/14\n",
            "====================\n"
          ]
        }
      ]
    },
    {
      "cell_type": "code",
      "metadata": {
        "id": "zfy4U1eoe-Nu"
      },
      "source": [
        "def comp_feature_information_gain1(df1, target, descriptive_feature, split_criterion1):\n",
        " \n",
        "    print('target feature:', target)\n",
        "    print('descriptive_feature:', descriptive_feature)\n",
        "    print('split criterion:', split_criterion)\n",
        " \n",
        "    target_entropy = compute_impurity1(df1[target], split_criterion1)\n",
        " \n",
        "    entropy_list1 = list()\n",
        "    weight_list1 = list()\n",
        " \n",
        " \n",
        "    for level in df1[descriptive_feature].unique():\n",
        "        df_feature_level = df1[df1[descriptive_feature] == level]\n",
        "        entropy_level = compute_impurity1(df_feature_level[target], split_criterion1)\n",
        "        entropy_list.append(round(entropy_level, 3))\n",
        "        weight_level = len(df_feature_level) / len(df1)\n",
        "        weight_list.append(round(weight_level, 3))\n",
        "    print('impurity of partitions:', entropy_list)\n",
        "    print('weights of partitions:', weight_list)\n",
        "\n",
        "    feature_remaining_impurity = np.sum(np.array(entropy_list) * np.array(weight_list))\n",
        "    print('remaining impurity:', feature_remaining_impurity)\n",
        " \n",
        "    information_gain = target_entropy - feature_remaining_impurity\n",
        "    print('information gain:', information_gain)\n",
        " \n",
        "    print('====================')\n",
        "    \n",
        "    return(information_gain)\n",
        "#19bcn7003\n"
      ],
      "execution_count": 15,
      "outputs": []
    },
    {
      "cell_type": "code",
      "metadata": {
        "colab": {
          "base_uri": "https://localhost:8080/",
          "height": 0
        },
        "id": "E56TdrPmf1YW",
        "outputId": "702e4ae3-47d1-46af-cb9c-ff1642221016"
      },
      "source": [
        "split_criteria1 = 'gini'\n",
        "for feature in df1.drop(columns='species').columns:\n",
        "    feature_info_gain = comp_feature_information_gain(df1, 'species', feature, split_criteria1)\n",
        "#19bcn7003"
      ],
      "execution_count": 16,
      "outputs": [
        {
          "output_type": "stream",
          "name": "stdout",
          "text": [
            "target feature: species\n",
            "descriptive_feature: sepal_length\n",
            "split criterion: gini\n",
            "impurity of partitions: [0.198, 0.5, 0.0, 0.0, 0.32, 0.278, 0.0, 0.0, 0.0, 0.612, 0.531, 0.375, 0.408, 0.0, 0.0, 0.0, 0.408, 0.375, 0.32, 0.444, 0.0, 0.444, 0.444, 0.444, 0.278, 0.469, 0.5, 0.444, 0.0, 0.0, 0.0, 0.0, 0.0, 0.0, 0.0]\n",
            "weights of partitions: [0.06, 0.04, 0.013, 0.027, 0.067, 0.04, 0.02, 0.033, 0.007, 0.047, 0.053, 0.027, 0.047, 0.007, 0.007, 0.007, 0.047, 0.027, 0.033, 0.06, 0.013, 0.02, 0.04, 0.04, 0.04, 0.053, 0.027, 0.02, 0.007, 0.007, 0.007, 0.02, 0.027, 0.007, 0.007]\n",
            "remaining impurity: 0.319906\n",
            "information gain: 0.347094\n",
            "====================\n",
            "target feature: species\n",
            "descriptive_feature: sepal_width\n",
            "split criterion: gini\n",
            "impurity of partitions: [0.0, 0.639, 0.651, 0.653, 0.444, 0.0, 0.403, 0.46, 0.0, 0.0, 0.0, 0.444, 0.611, 0.0, 0.0, 0.375, 0.49, 0.0, 0.494, 0.0, 0.444, 0.5, 0.48]\n",
            "weights of partitions: [0.04, 0.173, 0.087, 0.08, 0.02, 0.013, 0.08, 0.067, 0.02, 0.007, 0.007, 0.04, 0.04, 0.007, 0.007, 0.027, 0.093, 0.02, 0.06, 0.007, 0.02, 0.053, 0.033]\n",
            "remaining impurity: 0.47011900000000006\n",
            "information gain: 0.19688099999999997\n",
            "====================\n",
            "target feature: species\n",
            "descriptive_feature: petal_length\n",
            "split criterion: gini\n",
            "impurity of partitions: [0.0, 0.0, 0.0, 0.0, 0.0, 0.0, 0.0, 0.0, 0.0, 0.0, 0.219, 0.48, 0.0, 0.0, 0.0, 0.0, 0.0, 0.0, 0.0, 0.0, 0.0, 0.5, 0.0, 0.375, 0.0, 0.0, 0.219, 0.0, 0.0, 0.0, 0.0, 0.0, 0.0, 0.0, 0.0, 0.0, 0.0, 0.0, 0.0, 0.0, 0.0, 0.0, 0.0]\n",
            "weights of partitions: [0.08, 0.047, 0.093, 0.027, 0.047, 0.007, 0.013, 0.007, 0.013, 0.033, 0.053, 0.033, 0.033, 0.02, 0.013, 0.02, 0.013, 0.027, 0.007, 0.027, 0.02, 0.027, 0.013, 0.027, 0.007, 0.007, 0.053, 0.007, 0.013, 0.013, 0.04, 0.02, 0.007, 0.007, 0.02, 0.013, 0.02, 0.013, 0.007, 0.02, 0.007, 0.013, 0.013]\n",
            "remaining impurity: 0.062679\n",
            "information gain: 0.604321\n",
            "====================\n",
            "target feature: species\n",
            "descriptive_feature: petal_width\n",
            "split criterion: gini\n",
            "impurity of partitions: [0.0, 0.0, 0.0, 0.0, 0.0, 0.0, 0.219, 0.278, 0.0, 0.375, 0.0, 0.0, 0.153, 0.0, 0.5, 0.0, 0.0, 0.0, 0.0, 0.0, 0.0, 0.0]\n",
            "weights of partitions: [0.187, 0.047, 0.047, 0.04, 0.007, 0.007, 0.053, 0.08, 0.087, 0.027, 0.047, 0.02, 0.08, 0.033, 0.013, 0.02, 0.033, 0.04, 0.02, 0.04, 0.02, 0.053]\n",
            "remaining impurity: 0.062712\n",
            "information gain: 0.604288\n",
            "====================\n"
          ]
        }
      ]
    },
    {
      "cell_type": "markdown",
      "metadata": {
        "id": "dzFwejf2WDvc"
      },
      "source": [
        "**3.) Utilize the above two functions tofind out best splitting criteria for the followingdata sets:“tennis.csv”and “iris.csv”**"
      ]
    },
    {
      "cell_type": "code",
      "metadata": {
        "id": "I_jcNeUFWN1u"
      },
      "source": [
        "# The best splitting criteria of \"tennis.csv\" dataset can be obtained by considering \"Outlook\" feature as it has high in\n",
        "formation gain i.e.,0.11628000000000005\n",
        "\n",
        "# The best splitting criteria of \"iris.csv\" dataset can be obtained by considering \"petal_width\" feature as it has high\n",
        " information gain i.e.,0.604321"
      ],
      "execution_count": null,
      "outputs": []
    }
  ]
}